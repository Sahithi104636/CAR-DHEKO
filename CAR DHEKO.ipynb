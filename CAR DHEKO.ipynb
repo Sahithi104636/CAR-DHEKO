{
 "cells": [
  {
   "cell_type": "code",
   "execution_count": 1,
   "id": "8b6a693b",
   "metadata": {},
   "outputs": [],
   "source": [
    "import pandas as pd\n",
    "import numpy as np\n",
    "import matplotlib.pyplot as plt\n",
    "%matplotlib inline"
   ]
  },
  {
   "cell_type": "code",
   "execution_count": 3,
   "id": "f5bc4248",
   "metadata": {},
   "outputs": [
    {
     "name": "stdout",
     "output_type": "stream",
     "text": [
      "C:\\Users\\Santhosh\\Downloads\\data sets\n"
     ]
    }
   ],
   "source": [
    "import io\n",
    "%cd C:\\Users\\Santhosh\\Downloads\\data sets"
   ]
  },
  {
   "cell_type": "code",
   "execution_count": 9,
   "id": "5d2a2dcf",
   "metadata": {},
   "outputs": [],
   "source": [
    "car_details=pd.read_csv(\"Car details v3.csv\")"
   ]
  },
  {
   "cell_type": "code",
   "execution_count": 10,
   "id": "98f48eaa",
   "metadata": {
    "scrolled": true
   },
   "outputs": [
    {
     "data": {
      "text/html": [
       "<div>\n",
       "<style scoped>\n",
       "    .dataframe tbody tr th:only-of-type {\n",
       "        vertical-align: middle;\n",
       "    }\n",
       "\n",
       "    .dataframe tbody tr th {\n",
       "        vertical-align: top;\n",
       "    }\n",
       "\n",
       "    .dataframe thead th {\n",
       "        text-align: right;\n",
       "    }\n",
       "</style>\n",
       "<table border=\"1\" class=\"dataframe\">\n",
       "  <thead>\n",
       "    <tr style=\"text-align: right;\">\n",
       "      <th></th>\n",
       "      <th>name</th>\n",
       "      <th>year</th>\n",
       "      <th>selling_price</th>\n",
       "      <th>km_driven</th>\n",
       "      <th>fuel</th>\n",
       "      <th>seller_type</th>\n",
       "      <th>transmission</th>\n",
       "      <th>owner</th>\n",
       "      <th>mileage</th>\n",
       "      <th>engine</th>\n",
       "      <th>max_power</th>\n",
       "      <th>torque</th>\n",
       "      <th>seats</th>\n",
       "    </tr>\n",
       "  </thead>\n",
       "  <tbody>\n",
       "    <tr>\n",
       "      <th>0</th>\n",
       "      <td>Maruti Swift Dzire VDI</td>\n",
       "      <td>2014</td>\n",
       "      <td>450000</td>\n",
       "      <td>145500</td>\n",
       "      <td>Diesel</td>\n",
       "      <td>Individual</td>\n",
       "      <td>Manual</td>\n",
       "      <td>First Owner</td>\n",
       "      <td>23.40</td>\n",
       "      <td>1248.0</td>\n",
       "      <td>74</td>\n",
       "      <td>2000</td>\n",
       "      <td>5.0</td>\n",
       "    </tr>\n",
       "    <tr>\n",
       "      <th>1</th>\n",
       "      <td>Skoda Rapid 1.5 TDI Ambition</td>\n",
       "      <td>2014</td>\n",
       "      <td>370000</td>\n",
       "      <td>120000</td>\n",
       "      <td>Diesel</td>\n",
       "      <td>Individual</td>\n",
       "      <td>Manual</td>\n",
       "      <td>Second Owner</td>\n",
       "      <td>21.14</td>\n",
       "      <td>1498.0</td>\n",
       "      <td>103.52</td>\n",
       "      <td>2500</td>\n",
       "      <td>5.0</td>\n",
       "    </tr>\n",
       "    <tr>\n",
       "      <th>2</th>\n",
       "      <td>Honda City 2017-2020 EXi</td>\n",
       "      <td>2006</td>\n",
       "      <td>158000</td>\n",
       "      <td>140000</td>\n",
       "      <td>Petrol</td>\n",
       "      <td>Individual</td>\n",
       "      <td>Manual</td>\n",
       "      <td>Third Owner</td>\n",
       "      <td>17.70</td>\n",
       "      <td>1497.0</td>\n",
       "      <td>78</td>\n",
       "      <td>2700</td>\n",
       "      <td>5.0</td>\n",
       "    </tr>\n",
       "    <tr>\n",
       "      <th>3</th>\n",
       "      <td>Hyundai i20 Sportz Diesel</td>\n",
       "      <td>2010</td>\n",
       "      <td>225000</td>\n",
       "      <td>127000</td>\n",
       "      <td>Diesel</td>\n",
       "      <td>Individual</td>\n",
       "      <td>Manual</td>\n",
       "      <td>First Owner</td>\n",
       "      <td>23.00</td>\n",
       "      <td>1396.0</td>\n",
       "      <td>90</td>\n",
       "      <td>NaN</td>\n",
       "      <td>5.0</td>\n",
       "    </tr>\n",
       "    <tr>\n",
       "      <th>4</th>\n",
       "      <td>Maruti Swift VXI BSIII</td>\n",
       "      <td>2007</td>\n",
       "      <td>130000</td>\n",
       "      <td>120000</td>\n",
       "      <td>Petrol</td>\n",
       "      <td>Individual</td>\n",
       "      <td>Manual</td>\n",
       "      <td>First Owner</td>\n",
       "      <td>16.10</td>\n",
       "      <td>1298.0</td>\n",
       "      <td>88.2</td>\n",
       "      <td>4500</td>\n",
       "      <td>5.0</td>\n",
       "    </tr>\n",
       "  </tbody>\n",
       "</table>\n",
       "</div>"
      ],
      "text/plain": [
       "                           name  year  selling_price  km_driven    fuel  \\\n",
       "0        Maruti Swift Dzire VDI  2014         450000     145500  Diesel   \n",
       "1  Skoda Rapid 1.5 TDI Ambition  2014         370000     120000  Diesel   \n",
       "2      Honda City 2017-2020 EXi  2006         158000     140000  Petrol   \n",
       "3     Hyundai i20 Sportz Diesel  2010         225000     127000  Diesel   \n",
       "4        Maruti Swift VXI BSIII  2007         130000     120000  Petrol   \n",
       "\n",
       "  seller_type transmission         owner  mileage  engine max_power torque  \\\n",
       "0  Individual       Manual   First Owner    23.40  1248.0        74   2000   \n",
       "1  Individual       Manual  Second Owner    21.14  1498.0    103.52   2500   \n",
       "2  Individual       Manual   Third Owner    17.70  1497.0        78   2700   \n",
       "3  Individual       Manual   First Owner    23.00  1396.0        90    NaN   \n",
       "4  Individual       Manual   First Owner    16.10  1298.0      88.2   4500   \n",
       "\n",
       "   seats  \n",
       "0    5.0  \n",
       "1    5.0  \n",
       "2    5.0  \n",
       "3    5.0  \n",
       "4    5.0  "
      ]
     },
     "execution_count": 10,
     "metadata": {},
     "output_type": "execute_result"
    }
   ],
   "source": [
    "## a)\tHead, tail, info, columns\n",
    "car_details.head()"
   ]
  },
  {
   "cell_type": "code",
   "execution_count": 11,
   "id": "a83c4b44",
   "metadata": {},
   "outputs": [
    {
     "data": {
      "text/html": [
       "<div>\n",
       "<style scoped>\n",
       "    .dataframe tbody tr th:only-of-type {\n",
       "        vertical-align: middle;\n",
       "    }\n",
       "\n",
       "    .dataframe tbody tr th {\n",
       "        vertical-align: top;\n",
       "    }\n",
       "\n",
       "    .dataframe thead th {\n",
       "        text-align: right;\n",
       "    }\n",
       "</style>\n",
       "<table border=\"1\" class=\"dataframe\">\n",
       "  <thead>\n",
       "    <tr style=\"text-align: right;\">\n",
       "      <th></th>\n",
       "      <th>name</th>\n",
       "      <th>year</th>\n",
       "      <th>selling_price</th>\n",
       "      <th>km_driven</th>\n",
       "      <th>fuel</th>\n",
       "      <th>seller_type</th>\n",
       "      <th>transmission</th>\n",
       "      <th>owner</th>\n",
       "      <th>mileage</th>\n",
       "      <th>engine</th>\n",
       "      <th>max_power</th>\n",
       "      <th>torque</th>\n",
       "      <th>seats</th>\n",
       "    </tr>\n",
       "  </thead>\n",
       "  <tbody>\n",
       "    <tr>\n",
       "      <th>8123</th>\n",
       "      <td>Hyundai i20 Magna</td>\n",
       "      <td>2013</td>\n",
       "      <td>320000</td>\n",
       "      <td>110000</td>\n",
       "      <td>Petrol</td>\n",
       "      <td>Individual</td>\n",
       "      <td>Manual</td>\n",
       "      <td>First Owner</td>\n",
       "      <td>18.50</td>\n",
       "      <td>1197.0</td>\n",
       "      <td>82.85</td>\n",
       "      <td>4000</td>\n",
       "      <td>5.0</td>\n",
       "    </tr>\n",
       "    <tr>\n",
       "      <th>8124</th>\n",
       "      <td>Hyundai Verna CRDi SX</td>\n",
       "      <td>2007</td>\n",
       "      <td>135000</td>\n",
       "      <td>119000</td>\n",
       "      <td>Diesel</td>\n",
       "      <td>Individual</td>\n",
       "      <td>Manual</td>\n",
       "      <td>Fourth &amp; Above Owner</td>\n",
       "      <td>16.80</td>\n",
       "      <td>1493.0</td>\n",
       "      <td>110</td>\n",
       "      <td>2750</td>\n",
       "      <td>5.0</td>\n",
       "    </tr>\n",
       "    <tr>\n",
       "      <th>8125</th>\n",
       "      <td>Maruti Swift Dzire ZDi</td>\n",
       "      <td>2009</td>\n",
       "      <td>382000</td>\n",
       "      <td>120000</td>\n",
       "      <td>Diesel</td>\n",
       "      <td>Individual</td>\n",
       "      <td>Manual</td>\n",
       "      <td>First Owner</td>\n",
       "      <td>19.30</td>\n",
       "      <td>1248.0</td>\n",
       "      <td>73.9</td>\n",
       "      <td>2000</td>\n",
       "      <td>5.0</td>\n",
       "    </tr>\n",
       "    <tr>\n",
       "      <th>8126</th>\n",
       "      <td>Tata Indigo CR4</td>\n",
       "      <td>2013</td>\n",
       "      <td>290000</td>\n",
       "      <td>25000</td>\n",
       "      <td>Diesel</td>\n",
       "      <td>Individual</td>\n",
       "      <td>Manual</td>\n",
       "      <td>First Owner</td>\n",
       "      <td>23.57</td>\n",
       "      <td>1396.0</td>\n",
       "      <td>70</td>\n",
       "      <td>3000</td>\n",
       "      <td>5.0</td>\n",
       "    </tr>\n",
       "    <tr>\n",
       "      <th>8127</th>\n",
       "      <td>Tata Indigo CR4</td>\n",
       "      <td>2013</td>\n",
       "      <td>290000</td>\n",
       "      <td>25000</td>\n",
       "      <td>Diesel</td>\n",
       "      <td>Individual</td>\n",
       "      <td>Manual</td>\n",
       "      <td>First Owner</td>\n",
       "      <td>23.57</td>\n",
       "      <td>1396.0</td>\n",
       "      <td>70</td>\n",
       "      <td>3000</td>\n",
       "      <td>5.0</td>\n",
       "    </tr>\n",
       "  </tbody>\n",
       "</table>\n",
       "</div>"
      ],
      "text/plain": [
       "                        name  year  selling_price  km_driven    fuel  \\\n",
       "8123       Hyundai i20 Magna  2013         320000     110000  Petrol   \n",
       "8124   Hyundai Verna CRDi SX  2007         135000     119000  Diesel   \n",
       "8125  Maruti Swift Dzire ZDi  2009         382000     120000  Diesel   \n",
       "8126         Tata Indigo CR4  2013         290000      25000  Diesel   \n",
       "8127         Tata Indigo CR4  2013         290000      25000  Diesel   \n",
       "\n",
       "     seller_type transmission                 owner  mileage  engine  \\\n",
       "8123  Individual       Manual           First Owner    18.50  1197.0   \n",
       "8124  Individual       Manual  Fourth & Above Owner    16.80  1493.0   \n",
       "8125  Individual       Manual           First Owner    19.30  1248.0   \n",
       "8126  Individual       Manual           First Owner    23.57  1396.0   \n",
       "8127  Individual       Manual           First Owner    23.57  1396.0   \n",
       "\n",
       "     max_power torque  seats  \n",
       "8123     82.85   4000    5.0  \n",
       "8124       110   2750    5.0  \n",
       "8125      73.9   2000    5.0  \n",
       "8126        70   3000    5.0  \n",
       "8127        70   3000    5.0  "
      ]
     },
     "execution_count": 11,
     "metadata": {},
     "output_type": "execute_result"
    }
   ],
   "source": [
    "## tail\n",
    "car_details.tail()"
   ]
  },
  {
   "cell_type": "code",
   "execution_count": 12,
   "id": "825eba69",
   "metadata": {},
   "outputs": [
    {
     "name": "stdout",
     "output_type": "stream",
     "text": [
      "<class 'pandas.core.frame.DataFrame'>\n",
      "RangeIndex: 8128 entries, 0 to 8127\n",
      "Data columns (total 13 columns):\n",
      " #   Column         Non-Null Count  Dtype  \n",
      "---  ------         --------------  -----  \n",
      " 0   name           8128 non-null   object \n",
      " 1   year           8128 non-null   int64  \n",
      " 2   selling_price  8128 non-null   int64  \n",
      " 3   km_driven      8128 non-null   int64  \n",
      " 4   fuel           8128 non-null   object \n",
      " 5   seller_type    8128 non-null   object \n",
      " 6   transmission   8128 non-null   object \n",
      " 7   owner          8128 non-null   object \n",
      " 8   mileage        7907 non-null   float64\n",
      " 9   engine         7907 non-null   float64\n",
      " 10  max_power      7913 non-null   object \n",
      " 11  torque         7640 non-null   object \n",
      " 12  seats          7907 non-null   float64\n",
      "dtypes: float64(3), int64(3), object(7)\n",
      "memory usage: 825.6+ KB\n"
     ]
    }
   ],
   "source": [
    "## info\n",
    "car_details.info()"
   ]
  },
  {
   "cell_type": "code",
   "execution_count": 13,
   "id": "c20fedef",
   "metadata": {},
   "outputs": [
    {
     "data": {
      "text/plain": [
       "torque           488\n",
       "seats            221\n",
       "engine           221\n",
       "mileage          221\n",
       "max_power        215\n",
       "owner              0\n",
       "transmission       0\n",
       "seller_type        0\n",
       "fuel               0\n",
       "km_driven          0\n",
       "selling_price      0\n",
       "year               0\n",
       "name               0\n",
       "dtype: int64"
      ]
     },
     "execution_count": 13,
     "metadata": {},
     "output_type": "execute_result"
    }
   ],
   "source": [
    "car_details.isnull().sum().sort_values(ascending=False)"
   ]
  },
  {
   "cell_type": "code",
   "execution_count": 14,
   "id": "15976fa4",
   "metadata": {},
   "outputs": [
    {
     "data": {
      "text/plain": [
       "torque           0.060039\n",
       "seats            0.027190\n",
       "engine           0.027190\n",
       "mileage          0.027190\n",
       "max_power        0.026452\n",
       "owner            0.000000\n",
       "transmission     0.000000\n",
       "seller_type      0.000000\n",
       "fuel             0.000000\n",
       "km_driven        0.000000\n",
       "selling_price    0.000000\n",
       "year             0.000000\n",
       "name             0.000000\n",
       "dtype: float64"
      ]
     },
     "execution_count": 14,
     "metadata": {},
     "output_type": "execute_result"
    }
   ],
   "source": [
    "car_details.isnull().sum().sort_values(ascending=False)/car_details.shape[0]"
   ]
  },
  {
   "cell_type": "code",
   "execution_count": 15,
   "id": "b0d172cd",
   "metadata": {},
   "outputs": [
    {
     "data": {
      "text/plain": [
       "Index(['name', 'year', 'selling_price', 'km_driven', 'fuel', 'seller_type',\n",
       "       'transmission', 'owner', 'mileage', 'engine', 'max_power', 'torque',\n",
       "       'seats'],\n",
       "      dtype='object')"
      ]
     },
     "execution_count": 15,
     "metadata": {},
     "output_type": "execute_result"
    }
   ],
   "source": [
    "# columns\n",
    "car_details.columns"
   ]
  },
  {
   "cell_type": "code",
   "execution_count": 16,
   "id": "e1a14d4d",
   "metadata": {},
   "outputs": [],
   "source": [
    "## b)\tDescribe of variables mileage"
   ]
  },
  {
   "cell_type": "code",
   "execution_count": 17,
   "id": "342195ef",
   "metadata": {},
   "outputs": [
    {
     "data": {
      "text/plain": [
       "count    7907.000000\n",
       "mean       19.418783\n",
       "std         4.037145\n",
       "min         0.000000\n",
       "25%        16.780000\n",
       "50%        19.300000\n",
       "75%        22.320000\n",
       "max        42.000000\n",
       "Name: mileage, dtype: float64"
      ]
     },
     "execution_count": 17,
     "metadata": {},
     "output_type": "execute_result"
    }
   ],
   "source": [
    "car_details.mileage.describe()"
   ]
  },
  {
   "cell_type": "code",
   "execution_count": 18,
   "id": "21de1276",
   "metadata": {},
   "outputs": [
    {
     "data": {
      "text/plain": [
       "count    8.128000e+03\n",
       "mean     6.382718e+05\n",
       "std      8.062534e+05\n",
       "min      2.999900e+04\n",
       "25%      2.549990e+05\n",
       "50%      4.500000e+05\n",
       "75%      6.750000e+05\n",
       "max      1.000000e+07\n",
       "Name: selling_price, dtype: float64"
      ]
     },
     "execution_count": 18,
     "metadata": {},
     "output_type": "execute_result"
    }
   ],
   "source": [
    "## selling_price\n",
    "car_details.selling_price.describe()"
   ]
  },
  {
   "cell_type": "code",
   "execution_count": 19,
   "id": "93a91f24",
   "metadata": {},
   "outputs": [],
   "source": [
    "## c)\tDescribe of all numeric variables\n",
    "n1=cardetails.select_dtypes(include=np.number)"
   ]
  },
  {
   "cell_type": "code",
   "execution_count": 20,
   "id": "e2e73401",
   "metadata": {},
   "outputs": [
    {
     "data": {
      "text/html": [
       "<div>\n",
       "<style scoped>\n",
       "    .dataframe tbody tr th:only-of-type {\n",
       "        vertical-align: middle;\n",
       "    }\n",
       "\n",
       "    .dataframe tbody tr th {\n",
       "        vertical-align: top;\n",
       "    }\n",
       "\n",
       "    .dataframe thead th {\n",
       "        text-align: right;\n",
       "    }\n",
       "</style>\n",
       "<table border=\"1\" class=\"dataframe\">\n",
       "  <thead>\n",
       "    <tr style=\"text-align: right;\">\n",
       "      <th></th>\n",
       "      <th>year</th>\n",
       "      <th>selling_price</th>\n",
       "      <th>km_driven</th>\n",
       "      <th>mileage</th>\n",
       "      <th>engine</th>\n",
       "      <th>seats</th>\n",
       "    </tr>\n",
       "  </thead>\n",
       "  <tbody>\n",
       "    <tr>\n",
       "      <th>count</th>\n",
       "      <td>8128.000000</td>\n",
       "      <td>8.128000e+03</td>\n",
       "      <td>8.128000e+03</td>\n",
       "      <td>7907.000000</td>\n",
       "      <td>7907.000000</td>\n",
       "      <td>7907.000000</td>\n",
       "    </tr>\n",
       "    <tr>\n",
       "      <th>mean</th>\n",
       "      <td>2013.804011</td>\n",
       "      <td>6.382718e+05</td>\n",
       "      <td>6.981951e+04</td>\n",
       "      <td>19.418783</td>\n",
       "      <td>1458.625016</td>\n",
       "      <td>5.416719</td>\n",
       "    </tr>\n",
       "    <tr>\n",
       "      <th>std</th>\n",
       "      <td>4.044249</td>\n",
       "      <td>8.062534e+05</td>\n",
       "      <td>5.655055e+04</td>\n",
       "      <td>4.037145</td>\n",
       "      <td>503.916303</td>\n",
       "      <td>0.959588</td>\n",
       "    </tr>\n",
       "    <tr>\n",
       "      <th>min</th>\n",
       "      <td>1983.000000</td>\n",
       "      <td>2.999900e+04</td>\n",
       "      <td>1.000000e+00</td>\n",
       "      <td>0.000000</td>\n",
       "      <td>624.000000</td>\n",
       "      <td>2.000000</td>\n",
       "    </tr>\n",
       "    <tr>\n",
       "      <th>25%</th>\n",
       "      <td>2011.000000</td>\n",
       "      <td>2.549990e+05</td>\n",
       "      <td>3.500000e+04</td>\n",
       "      <td>16.780000</td>\n",
       "      <td>1197.000000</td>\n",
       "      <td>5.000000</td>\n",
       "    </tr>\n",
       "    <tr>\n",
       "      <th>50%</th>\n",
       "      <td>2015.000000</td>\n",
       "      <td>4.500000e+05</td>\n",
       "      <td>6.000000e+04</td>\n",
       "      <td>19.300000</td>\n",
       "      <td>1248.000000</td>\n",
       "      <td>5.000000</td>\n",
       "    </tr>\n",
       "    <tr>\n",
       "      <th>75%</th>\n",
       "      <td>2017.000000</td>\n",
       "      <td>6.750000e+05</td>\n",
       "      <td>9.800000e+04</td>\n",
       "      <td>22.320000</td>\n",
       "      <td>1582.000000</td>\n",
       "      <td>5.000000</td>\n",
       "    </tr>\n",
       "    <tr>\n",
       "      <th>max</th>\n",
       "      <td>2020.000000</td>\n",
       "      <td>1.000000e+07</td>\n",
       "      <td>2.360457e+06</td>\n",
       "      <td>42.000000</td>\n",
       "      <td>3604.000000</td>\n",
       "      <td>14.000000</td>\n",
       "    </tr>\n",
       "  </tbody>\n",
       "</table>\n",
       "</div>"
      ],
      "text/plain": [
       "              year  selling_price     km_driven      mileage       engine  \\\n",
       "count  8128.000000   8.128000e+03  8.128000e+03  7907.000000  7907.000000   \n",
       "mean   2013.804011   6.382718e+05  6.981951e+04    19.418783  1458.625016   \n",
       "std       4.044249   8.062534e+05  5.655055e+04     4.037145   503.916303   \n",
       "min    1983.000000   2.999900e+04  1.000000e+00     0.000000   624.000000   \n",
       "25%    2011.000000   2.549990e+05  3.500000e+04    16.780000  1197.000000   \n",
       "50%    2015.000000   4.500000e+05  6.000000e+04    19.300000  1248.000000   \n",
       "75%    2017.000000   6.750000e+05  9.800000e+04    22.320000  1582.000000   \n",
       "max    2020.000000   1.000000e+07  2.360457e+06    42.000000  3604.000000   \n",
       "\n",
       "             seats  \n",
       "count  7907.000000  \n",
       "mean      5.416719  \n",
       "std       0.959588  \n",
       "min       2.000000  \n",
       "25%       5.000000  \n",
       "50%       5.000000  \n",
       "75%       5.000000  \n",
       "max      14.000000  "
      ]
     },
     "execution_count": 20,
     "metadata": {},
     "output_type": "execute_result"
    }
   ],
   "source": [
    "## c)\tDescribe of all numeric variables\n",
    "n1.describe()"
   ]
  },
  {
   "cell_type": "code",
   "execution_count": 21,
   "id": "52aabb41",
   "metadata": {},
   "outputs": [
    {
     "data": {
      "text/plain": [
       "5.0     6254\n",
       "7.0     1120\n",
       "8.0      236\n",
       "4.0      133\n",
       "9.0       80\n",
       "6.0       62\n",
       "10.0      19\n",
       "2.0        2\n",
       "14.0       1\n",
       "Name: seats, dtype: int64"
      ]
     },
     "execution_count": 21,
     "metadata": {},
     "output_type": "execute_result"
    }
   ],
   "source": [
    "## d)\tFrequency counts of seats, owner, seller_type\n",
    "car_details.seats.value_counts()"
   ]
  },
  {
   "cell_type": "code",
   "execution_count": 22,
   "id": "918d3be3",
   "metadata": {},
   "outputs": [
    {
     "data": {
      "text/plain": [
       "First Owner             5289\n",
       "Second Owner            2105\n",
       "Third Owner              555\n",
       "Fourth & Above Owner     174\n",
       "Test Drive Car             5\n",
       "Name: owner, dtype: int64"
      ]
     },
     "execution_count": 22,
     "metadata": {},
     "output_type": "execute_result"
    }
   ],
   "source": [
    "## owner\n",
    "cardetails.owner.value_counts()"
   ]
  },
  {
   "cell_type": "code",
   "execution_count": 23,
   "id": "25398409",
   "metadata": {},
   "outputs": [
    {
     "data": {
      "text/plain": [
       "Individual          6766\n",
       "Dealer              1126\n",
       "Trustmark Dealer     236\n",
       "Name: seller_type, dtype: int64"
      ]
     },
     "execution_count": 23,
     "metadata": {},
     "output_type": "execute_result"
    }
   ],
   "source": [
    "## seller_type\n",
    "car_details.seller_type.value_counts()"
   ]
  },
  {
   "cell_type": "code",
   "execution_count": 24,
   "id": "06f3072a",
   "metadata": {},
   "outputs": [
    {
     "data": {
      "text/html": [
       "<div>\n",
       "<style scoped>\n",
       "    .dataframe tbody tr th:only-of-type {\n",
       "        vertical-align: middle;\n",
       "    }\n",
       "\n",
       "    .dataframe tbody tr th {\n",
       "        vertical-align: top;\n",
       "    }\n",
       "\n",
       "    .dataframe thead th {\n",
       "        text-align: right;\n",
       "    }\n",
       "</style>\n",
       "<table border=\"1\" class=\"dataframe\">\n",
       "  <thead>\n",
       "    <tr style=\"text-align: right;\">\n",
       "      <th>seller_type</th>\n",
       "      <th>Dealer</th>\n",
       "      <th>Individual</th>\n",
       "      <th>Trustmark Dealer</th>\n",
       "    </tr>\n",
       "    <tr>\n",
       "      <th>owner</th>\n",
       "      <th></th>\n",
       "      <th></th>\n",
       "      <th></th>\n",
       "    </tr>\n",
       "  </thead>\n",
       "  <tbody>\n",
       "    <tr>\n",
       "      <th>First Owner</th>\n",
       "      <td>1018</td>\n",
       "      <td>4068</td>\n",
       "      <td>203</td>\n",
       "    </tr>\n",
       "    <tr>\n",
       "      <th>Fourth &amp; Above Owner</th>\n",
       "      <td>0</td>\n",
       "      <td>174</td>\n",
       "      <td>0</td>\n",
       "    </tr>\n",
       "    <tr>\n",
       "      <th>Second Owner</th>\n",
       "      <td>99</td>\n",
       "      <td>1973</td>\n",
       "      <td>33</td>\n",
       "    </tr>\n",
       "    <tr>\n",
       "      <th>Test Drive Car</th>\n",
       "      <td>5</td>\n",
       "      <td>0</td>\n",
       "      <td>0</td>\n",
       "    </tr>\n",
       "    <tr>\n",
       "      <th>Third Owner</th>\n",
       "      <td>4</td>\n",
       "      <td>551</td>\n",
       "      <td>0</td>\n",
       "    </tr>\n",
       "  </tbody>\n",
       "</table>\n",
       "</div>"
      ],
      "text/plain": [
       "seller_type           Dealer  Individual  Trustmark Dealer\n",
       "owner                                                     \n",
       "First Owner             1018        4068               203\n",
       "Fourth & Above Owner       0         174                 0\n",
       "Second Owner              99        1973                33\n",
       "Test Drive Car             5           0                 0\n",
       "Third Owner                4         551                 0"
      ]
     },
     "execution_count": 24,
     "metadata": {},
     "output_type": "execute_result"
    }
   ],
   "source": [
    "## e)\tCross Tabulation of owner and seller_type, fuel and seller_type\n",
    "pd.crosstab(car_details.owner,car_details.seller_type)"
   ]
  },
  {
   "cell_type": "code",
   "execution_count": 25,
   "id": "15de32fa",
   "metadata": {},
   "outputs": [
    {
     "data": {
      "text/html": [
       "<div>\n",
       "<style scoped>\n",
       "    .dataframe tbody tr th:only-of-type {\n",
       "        vertical-align: middle;\n",
       "    }\n",
       "\n",
       "    .dataframe tbody tr th {\n",
       "        vertical-align: top;\n",
       "    }\n",
       "\n",
       "    .dataframe thead th {\n",
       "        text-align: right;\n",
       "    }\n",
       "</style>\n",
       "<table border=\"1\" class=\"dataframe\">\n",
       "  <thead>\n",
       "    <tr style=\"text-align: right;\">\n",
       "      <th>seller_type</th>\n",
       "      <th>Dealer</th>\n",
       "      <th>Individual</th>\n",
       "      <th>Trustmark Dealer</th>\n",
       "    </tr>\n",
       "    <tr>\n",
       "      <th>fuel</th>\n",
       "      <th></th>\n",
       "      <th></th>\n",
       "      <th></th>\n",
       "    </tr>\n",
       "  </thead>\n",
       "  <tbody>\n",
       "    <tr>\n",
       "      <th>CNG</th>\n",
       "      <td>0</td>\n",
       "      <td>57</td>\n",
       "      <td>0</td>\n",
       "    </tr>\n",
       "    <tr>\n",
       "      <th>Diesel</th>\n",
       "      <td>704</td>\n",
       "      <td>3664</td>\n",
       "      <td>34</td>\n",
       "    </tr>\n",
       "    <tr>\n",
       "      <th>LPG</th>\n",
       "      <td>2</td>\n",
       "      <td>36</td>\n",
       "      <td>0</td>\n",
       "    </tr>\n",
       "    <tr>\n",
       "      <th>Petrol</th>\n",
       "      <td>420</td>\n",
       "      <td>3009</td>\n",
       "      <td>202</td>\n",
       "    </tr>\n",
       "  </tbody>\n",
       "</table>\n",
       "</div>"
      ],
      "text/plain": [
       "seller_type  Dealer  Individual  Trustmark Dealer\n",
       "fuel                                             \n",
       "CNG               0          57                 0\n",
       "Diesel          704        3664                34\n",
       "LPG               2          36                 0\n",
       "Petrol          420        3009               202"
      ]
     },
     "execution_count": 25,
     "metadata": {},
     "output_type": "execute_result"
    }
   ],
   "source": [
    "## fuel and seller_type\n",
    "pd.crosstab(car_details.fuel,car_details.seller_type)"
   ]
  },
  {
   "cell_type": "code",
   "execution_count": 26,
   "id": "eee16d48",
   "metadata": {},
   "outputs": [
    {
     "data": {
      "text/plain": [
       "<AxesSubplot:ylabel='Frequency'>"
      ]
     },
     "execution_count": 26,
     "metadata": {},
     "output_type": "execute_result"
    },
    {
     "data": {
      "image/png": "[encoded data removed]",
      "text/plain": [
       "<Figure size 432x288 with 1 Axes>"
      ]
     },
     "metadata": {
      "needs_background": "light"
     },
     "output_type": "display_data"
    }
   ],
   "source": [
    "## f)\tCreate Histogram, Boxplot and density curve of selling_price, and mileage\n",
    "car_details.selling_price.plot(kind=\"hist\")"
   ]
  },
  {
   "cell_type": "code",
   "execution_count": 27,
   "id": "71bd4595",
   "metadata": {},
   "outputs": [
    {
     "data": {
      "text/plain": [
       "<AxesSubplot:>"
      ]
     },
     "execution_count": 27,
     "metadata": {},
     "output_type": "execute_result"
    },
    {
     "data": {
      "image/png": "[encoded data removed]",
      "text/plain": [
       "<Figure size 432x288 with 1 Axes>"
      ]
     },
     "metadata": {
      "needs_background": "light"
     },
     "output_type": "display_data"
    }
   ],
   "source": [
    "car_details.selling_price.plot(kind=\"box\",vert=False)"
   ]
  },
  {
   "cell_type": "code",
   "execution_count": 28,
   "id": "3949a616",
   "metadata": {},
   "outputs": [
    {
     "data": {
      "text/plain": [
       "<AxesSubplot:ylabel='Density'>"
      ]
     },
     "execution_count": 28,
     "metadata": {},
     "output_type": "execute_result"
    },
    {
     "data": {
      "image/png": "[encoded data removed]",
      "text/plain": [
       "<Figure size 432x288 with 1 Axes>"
      ]
     },
     "metadata": {
      "needs_background": "light"
     },
     "output_type": "display_data"
    }
   ],
   "source": [
    "car_details.selling_price.plot(kind=\"density\")"
   ]
  },
  {
   "cell_type": "code",
   "execution_count": 29,
   "id": "5aa93eda",
   "metadata": {},
   "outputs": [
    {
     "data": {
      "text/plain": [
       "<AxesSubplot:ylabel='Frequency'>"
      ]
     },
     "execution_count": 29,
     "metadata": {},
     "output_type": "execute_result"
    },
    {
     "data": {
      "image/png": "[encoded data removed]",
      "text/plain": [
       "<Figure size 432x288 with 1 Axes>"
      ]
     },
     "metadata": {
      "needs_background": "light"
     },
     "output_type": "display_data"
    }
   ],
   "source": [
    "car_details.mileage.plot(kind=\"hist\")"
   ]
  },
  {
   "cell_type": "code",
   "execution_count": 30,
   "id": "8b73f43f",
   "metadata": {},
   "outputs": [
    {
     "data": {
      "text/plain": [
       "<AxesSubplot:>"
      ]
     },
     "execution_count": 30,
     "metadata": {},
     "output_type": "execute_result"
    },
    {
     "data": {
      "image/png": "[encoded data removed]",
      "text/plain": [
       "<Figure size 432x288 with 1 Axes>"
      ]
     },
     "metadata": {
      "needs_background": "light"
     },
     "output_type": "display_data"
    }
   ],
   "source": [
    "car_details.mileage.plot(kind=\"box\",vert=False)"
   ]
  },
  {
   "cell_type": "code",
   "execution_count": 31,
   "id": "2d6b635c",
   "metadata": {},
   "outputs": [
    {
     "data": {
      "text/plain": [
       "<AxesSubplot:ylabel='Density'>"
      ]
     },
     "execution_count": 31,
     "metadata": {},
     "output_type": "execute_result"
    },
    {
     "data": {
      "image/png": "[encoded data removed]",
      "text/plain": [
       "<Figure size 432x288 with 1 Axes>"
      ]
     },
     "metadata": {
      "needs_background": "light"
     },
     "output_type": "display_data"
    }
   ],
   "source": [
    "car_details.mileage.plot(kind=\"density\")"
   ]
  },
  {
   "cell_type": "code",
   "execution_count": 32,
   "id": "2aac8cf5",
   "metadata": {},
   "outputs": [
    {
     "data": {
      "text/html": [
       "<div>\n",
       "<style scoped>\n",
       "    .dataframe tbody tr th:only-of-type {\n",
       "        vertical-align: middle;\n",
       "    }\n",
       "\n",
       "    .dataframe tbody tr th {\n",
       "        vertical-align: top;\n",
       "    }\n",
       "\n",
       "    .dataframe thead th {\n",
       "        text-align: right;\n",
       "    }\n",
       "</style>\n",
       "<table border=\"1\" class=\"dataframe\">\n",
       "  <thead>\n",
       "    <tr style=\"text-align: right;\">\n",
       "      <th></th>\n",
       "      <th>selling_price</th>\n",
       "      <th>mileage</th>\n",
       "    </tr>\n",
       "  </thead>\n",
       "  <tbody>\n",
       "    <tr>\n",
       "      <th>selling_price</th>\n",
       "      <td>6.500446e+11</td>\n",
       "      <td>-414015.974545</td>\n",
       "    </tr>\n",
       "    <tr>\n",
       "      <th>mileage</th>\n",
       "      <td>-4.140160e+05</td>\n",
       "      <td>16.298540</td>\n",
       "    </tr>\n",
       "  </tbody>\n",
       "</table>\n",
       "</div>"
      ],
      "text/plain": [
       "               selling_price        mileage\n",
       "selling_price   6.500446e+11 -414015.974545\n",
       "mileage        -4.140160e+05      16.298540"
      ]
     },
     "execution_count": 32,
     "metadata": {},
     "output_type": "execute_result"
    }
   ],
   "source": [
    "## g)\tCovariance, Correlation and Scatter plot of selling_price and mileage\n",
    "car_details[[\"selling_price\",\"mileage\"]].cov()"
   ]
  },
  {
   "cell_type": "code",
   "execution_count": 33,
   "id": "e4ece9d0",
   "metadata": {},
   "outputs": [
    {
     "data": {
      "text/html": [
       "<div>\n",
       "<style scoped>\n",
       "    .dataframe tbody tr th:only-of-type {\n",
       "        vertical-align: middle;\n",
       "    }\n",
       "\n",
       "    .dataframe tbody tr th {\n",
       "        vertical-align: top;\n",
       "    }\n",
       "\n",
       "    .dataframe thead th {\n",
       "        text-align: right;\n",
       "    }\n",
       "</style>\n",
       "<table border=\"1\" class=\"dataframe\">\n",
       "  <thead>\n",
       "    <tr style=\"text-align: right;\">\n",
       "      <th></th>\n",
       "      <th>selling_price</th>\n",
       "      <th>mileage</th>\n",
       "    </tr>\n",
       "  </thead>\n",
       "  <tbody>\n",
       "    <tr>\n",
       "      <th>selling_price</th>\n",
       "      <td>1.000000</td>\n",
       "      <td>-0.126054</td>\n",
       "    </tr>\n",
       "    <tr>\n",
       "      <th>mileage</th>\n",
       "      <td>-0.126054</td>\n",
       "      <td>1.000000</td>\n",
       "    </tr>\n",
       "  </tbody>\n",
       "</table>\n",
       "</div>"
      ],
      "text/plain": [
       "               selling_price   mileage\n",
       "selling_price       1.000000 -0.126054\n",
       "mileage            -0.126054  1.000000"
      ]
     },
     "execution_count": 33,
     "metadata": {},
     "output_type": "execute_result"
    }
   ],
   "source": [
    "## correlation\n",
    "car_details[[\"selling_price\",\"mileage\"]].corr()"
   ]
  },
  {
   "cell_type": "code",
   "execution_count": 34,
   "id": "8ad60b97",
   "metadata": {},
   "outputs": [],
   "source": [
    "# MISSING VALUE TREATMENT\n",
    "# SPLIT DATA INTO NUMERIC AND OBJECT\n",
    "objectcols=car_details.select_dtypes(include=[\"object\"])\n",
    "numericcols=car_details.select_dtypes(include=np.number)"
   ]
  },
  {
   "cell_type": "code",
   "execution_count": 35,
   "id": "981266c6",
   "metadata": {},
   "outputs": [
    {
     "name": "stdout",
     "output_type": "stream",
     "text": [
      "(8128, 7)\n",
      "(8128, 6)\n"
     ]
    }
   ],
   "source": [
    "print(objectcols.shape)\n",
    "print(numericcols.shape)"
   ]
  },
  {
   "cell_type": "code",
   "execution_count": 36,
   "id": "c30f6675",
   "metadata": {},
   "outputs": [
    {
     "data": {
      "text/plain": [
       "torque          488\n",
       "max_power       215\n",
       "owner             0\n",
       "transmission      0\n",
       "seller_type       0\n",
       "fuel              0\n",
       "name              0\n",
       "dtype: int64"
      ]
     },
     "execution_count": 36,
     "metadata": {},
     "output_type": "execute_result"
    }
   ],
   "source": [
    "objectcols.isnull().sum().sort_values(ascending=False)"
   ]
  },
  {
   "cell_type": "code",
   "execution_count": 37,
   "id": "722a7eb7",
   "metadata": {},
   "outputs": [],
   "source": [
    "objectcols_na=[\"torque\",\"max_power\"]"
   ]
  },
  {
   "cell_type": "code",
   "execution_count": 38,
   "id": "9763a7f7",
   "metadata": {},
   "outputs": [
    {
     "name": "stdout",
     "output_type": "stream",
     "text": [
      "4000     931\n",
      "2000     850\n",
      "3500     757\n",
      "3000     712\n",
      "2500     703\n",
      "1750     556\n",
      "NaN      488\n",
      "2750     453\n",
      "2800     401\n",
      "4200     306\n",
      "4500     258\n",
      "3400     182\n",
      "2200     168\n",
      "2250     138\n",
      "4800     136\n",
      "2700     105\n",
      "3600      85\n",
      "4250      80\n",
      "4386      77\n",
      "3250      74\n",
      "4600      70\n",
      "4400      69\n",
      "2400      63\n",
      "1900      50\n",
      "3800      49\n",
      "1800      44\n",
      "4300      40\n",
      "2600      34\n",
      "5200      34\n",
      "5000      33\n",
      "1500      31\n",
      "4850      28\n",
      "4100      28\n",
      "3750      23\n",
      "3200      23\n",
      "4700      11\n",
      "4750      10\n",
      "3100       6\n",
      "4,500      6\n",
      "3300       3\n",
      "1400       3\n",
      "3700       1\n",
      "2680       1\n",
      "1850       1\n",
      "4388       1\n",
      "1740       1\n",
      "5300       1\n",
      "2650       1\n",
      "1600       1\n",
      "21800      1\n",
      "500        1\n",
      "Name: torque, dtype: int64\n",
      "74        377\n",
      "88.5      222\n",
      "81.8      220\n",
      "NaN       215\n",
      "67        165\n",
      "         ... \n",
      "141.1       1\n",
      "167.62      1\n",
      "110.5       1\n",
      "282         1\n",
      "134         1\n",
      "Name: max_power, Length: 321, dtype: int64\n"
     ]
    }
   ],
   "source": [
    "for col in objectcols_na:\n",
    "    freq=car_details[col].value_counts(dropna=False)\n",
    "    print(freq)"
   ]
  },
  {
   "cell_type": "code",
   "execution_count": 39,
   "id": "05408700",
   "metadata": {},
   "outputs": [
    {
     "name": "stderr",
     "output_type": "stream",
     "text": [
      "<ipython-input-39-87c2d52066cb>:3: SettingWithCopyWarning: \n",
      "A value is trying to be set on a copy of a slice from a DataFrame.\n",
      "Try using .loc[row_indexer,col_indexer] = value instead\n",
      "\n",
      "See the caveats in the documentation: https://pandas.pydata.org/pandas-docs/stable/user_guide/indexing.html#returning-a-view-versus-a-copy\n",
      "  objectcols[col]=objectcols[col].fillna(\n"
     ]
    }
   ],
   "source": [
    "# mode or most frequent imputation for  variables in objectcols\n",
    "for col in objectcols_na:\n",
    "    objectcols[col]=objectcols[col].fillna(\n",
    "        objectcols[col].value_counts().idxmax())"
   ]
  },
  {
   "cell_type": "code",
   "execution_count": 40,
   "id": "8bf88c6a",
   "metadata": {},
   "outputs": [
    {
     "data": {
      "text/plain": [
       "torque          0\n",
       "max_power       0\n",
       "owner           0\n",
       "transmission    0\n",
       "seller_type     0\n",
       "fuel            0\n",
       "name            0\n",
       "dtype: int64"
      ]
     },
     "execution_count": 40,
     "metadata": {},
     "output_type": "execute_result"
    }
   ],
   "source": [
    "objectcols.isnull().sum().sort_values(ascending=False)"
   ]
  },
  {
   "cell_type": "code",
   "execution_count": 41,
   "id": "e525ceac",
   "metadata": {},
   "outputs": [
    {
     "data": {
      "text/plain": [
       "seats            221\n",
       "engine           221\n",
       "mileage          221\n",
       "km_driven          0\n",
       "selling_price      0\n",
       "year               0\n",
       "dtype: int64"
      ]
     },
     "execution_count": 41,
     "metadata": {},
     "output_type": "execute_result"
    }
   ],
   "source": [
    "numericcols.isnull().sum().sort_values(ascending=False)"
   ]
  },
  {
   "cell_type": "code",
   "execution_count": 42,
   "id": "1df33f62",
   "metadata": {},
   "outputs": [],
   "source": [
    "categorycols=[\"seats\",\"year\"]"
   ]
  },
  {
   "cell_type": "code",
   "execution_count": 43,
   "id": "c4be9889",
   "metadata": {},
   "outputs": [
    {
     "name": "stderr",
     "output_type": "stream",
     "text": [
      "<ipython-input-43-39ed0d341c29>:2: SettingWithCopyWarning: \n",
      "A value is trying to be set on a copy of a slice from a DataFrame.\n",
      "Try using .loc[row_indexer,col_indexer] = value instead\n",
      "\n",
      "See the caveats in the documentation: https://pandas.pydata.org/pandas-docs/stable/user_guide/indexing.html#returning-a-view-versus-a-copy\n",
      "  numericcols[col]=numericcols[col].fillna(\n"
     ]
    }
   ],
   "source": [
    "for col in categorycols:\n",
    "    numericcols[col]=numericcols[col].fillna(\n",
    "        numericcols[col].value_counts().idxmax())"
   ]
  },
  {
   "cell_type": "code",
   "execution_count": 44,
   "id": "4c074729",
   "metadata": {},
   "outputs": [
    {
     "name": "stderr",
     "output_type": "stream",
     "text": [
      "<ipython-input-44-f99c66ee33e9>:2: SettingWithCopyWarning: \n",
      "A value is trying to be set on a copy of a slice from a DataFrame.\n",
      "Try using .loc[row_indexer,col_indexer] = value instead\n",
      "\n",
      "See the caveats in the documentation: https://pandas.pydata.org/pandas-docs/stable/user_guide/indexing.html#returning-a-view-versus-a-copy\n",
      "  numericcols[col]=numericcols[col].fillna(numericcols[col].median())\n"
     ]
    }
   ],
   "source": [
    "for col in numericcols.columns:\n",
    "    numericcols[col]=numericcols[col].fillna(numericcols[col].median())"
   ]
  },
  {
   "cell_type": "code",
   "execution_count": 45,
   "id": "c29d9e7a",
   "metadata": {},
   "outputs": [],
   "source": [
    "clean_car=pd.concat([objectcols,numericcols],axis=1)"
   ]
  },
  {
   "cell_type": "code",
   "execution_count": 46,
   "id": "06fe97c2",
   "metadata": {},
   "outputs": [
    {
     "name": "stdout",
     "output_type": "stream",
     "text": [
      "<class 'pandas.core.frame.DataFrame'>\n",
      "RangeIndex: 8128 entries, 0 to 8127\n",
      "Data columns (total 13 columns):\n",
      " #   Column         Non-Null Count  Dtype  \n",
      "---  ------         --------------  -----  \n",
      " 0   name           8128 non-null   object \n",
      " 1   fuel           8128 non-null   object \n",
      " 2   seller_type    8128 non-null   object \n",
      " 3   transmission   8128 non-null   object \n",
      " 4   owner          8128 non-null   object \n",
      " 5   max_power      8128 non-null   object \n",
      " 6   torque         8128 non-null   object \n",
      " 7   year           8128 non-null   int64  \n",
      " 8   selling_price  8128 non-null   int64  \n",
      " 9   km_driven      8128 non-null   int64  \n",
      " 10  mileage        8128 non-null   float64\n",
      " 11  engine         8128 non-null   float64\n",
      " 12  seats          8128 non-null   float64\n",
      "dtypes: float64(3), int64(3), object(7)\n",
      "memory usage: 825.6+ KB\n"
     ]
    }
   ],
   "source": [
    "clean_car.info()"
   ]
  },
  {
   "cell_type": "code",
   "execution_count": 47,
   "id": "170f8a14",
   "metadata": {},
   "outputs": [
    {
     "data": {
      "text/plain": [
       "seats            0\n",
       "engine           0\n",
       "mileage          0\n",
       "km_driven        0\n",
       "selling_price    0\n",
       "year             0\n",
       "torque           0\n",
       "max_power        0\n",
       "owner            0\n",
       "transmission     0\n",
       "seller_type      0\n",
       "fuel             0\n",
       "name             0\n",
       "dtype: int64"
      ]
     },
     "execution_count": 47,
     "metadata": {},
     "output_type": "execute_result"
    }
   ],
   "source": [
    "clean_car.isnull().sum().sort_values(ascending=False)"
   ]
  },
  {
   "cell_type": "code",
   "execution_count": 48,
   "id": "2de75b5c",
   "metadata": {},
   "outputs": [
    {
     "data": {
      "text/plain": [
       "transmission\n",
       "Automatic    1870827.60\n",
       "Manual        455425.86\n",
       "Name: selling_price, dtype: float64"
      ]
     },
     "execution_count": 48,
     "metadata": {},
     "output_type": "execute_result"
    }
   ],
   "source": [
    "## HYPOTHESIS TESTING\n",
    "## a)\tTest Null Average selling_price of different transmission is equal\n",
    "np.round(clean_car.selling_price.groupby(clean_car.transmission).mean(),2)"
   ]
  },
  {
   "cell_type": "code",
   "execution_count": 49,
   "id": "23fc2e27",
   "metadata": {},
   "outputs": [
    {
     "data": {
      "text/plain": [
       "transmission\n",
       "Automatic    2.691349e+12\n",
       "Manual       8.872370e+10\n",
       "Name: selling_price, dtype: float64"
      ]
     },
     "execution_count": 49,
     "metadata": {},
     "output_type": "execute_result"
    }
   ],
   "source": [
    "np.round(clean_car.selling_price.groupby(clean_car.transmission).var(),2)"
   ]
  },
  {
   "cell_type": "code",
   "execution_count": 50,
   "id": "d4def88f",
   "metadata": {},
   "outputs": [],
   "source": [
    "sp_auto=clean_car[clean_car.transmission==\"Automatic\"]\n",
    "sp_manu=clean_car[clean_car.transmission==\"Manual\"]"
   ]
  },
  {
   "cell_type": "code",
   "execution_count": 51,
   "id": "12ef05d7",
   "metadata": {},
   "outputs": [
    {
     "name": "stdout",
     "output_type": "stream",
     "text": [
      "(1050, 13)\n",
      "(7078, 13)\n"
     ]
    }
   ],
   "source": [
    "print(sp_auto.shape)\n",
    "print(sp_manu.shape)"
   ]
  },
  {
   "cell_type": "code",
   "execution_count": 52,
   "id": "810a0ceb",
   "metadata": {},
   "outputs": [],
   "source": [
    "from scipy.stats import ttest_ind"
   ]
  },
  {
   "cell_type": "code",
   "execution_count": 53,
   "id": "3ff75961",
   "metadata": {},
   "outputs": [
    {
     "data": {
      "text/plain": [
       "Ttest_indResult(statistic=27.88881319347894, pvalue=8.531946079710798e-129)"
      ]
     },
     "execution_count": 53,
     "metadata": {},
     "output_type": "execute_result"
    }
   ],
   "source": [
    "ttest_ind(sp_auto.selling_price,sp_manu.selling_price,equal_var=False)\n",
    "# since p value 8.531946079710315e-129 less than 0.05, reject null"
   ]
  },
  {
   "cell_type": "code",
   "execution_count": 54,
   "id": "8f47caca",
   "metadata": {},
   "outputs": [
    {
     "data": {
      "text/plain": [
       "transmission\n",
       "Automatic    17.579638\n",
       "Manual       19.687906\n",
       "Name: mileage, dtype: float64"
      ]
     },
     "execution_count": 54,
     "metadata": {},
     "output_type": "execute_result"
    }
   ],
   "source": [
    "## b)\tTest Null Average mileage of different transmission is equal\n",
    "clean_car.mileage.groupby(clean_car.transmission).mean()"
   ]
  },
  {
   "cell_type": "code",
   "execution_count": 55,
   "id": "d7f9458b",
   "metadata": {},
   "outputs": [
    {
     "data": {
      "text/plain": [
       "transmission\n",
       "Automatic    15.773254\n",
       "Manual       15.295890\n",
       "Name: mileage, dtype: float64"
      ]
     },
     "execution_count": 55,
     "metadata": {},
     "output_type": "execute_result"
    }
   ],
   "source": [
    "clean_car.mileage.groupby(clean_car.transmission).var()"
   ]
  },
  {
   "cell_type": "code",
   "execution_count": 56,
   "id": "35d420e9",
   "metadata": {},
   "outputs": [],
   "source": [
    "mi_auto=clean_car[clean_car.transmission==\"Automatic\"]\n",
    "mi_manu=clean_car[clean_car.transmission==\"Manual\"]"
   ]
  },
  {
   "cell_type": "code",
   "execution_count": 57,
   "id": "576f1fe0",
   "metadata": {},
   "outputs": [
    {
     "data": {
      "text/plain": [
       "Ttest_indResult(statistic=-16.08325308774936, pvalue=1.924423779471943e-53)"
      ]
     },
     "execution_count": 57,
     "metadata": {},
     "output_type": "execute_result"
    }
   ],
   "source": [
    "ttest_ind(mi_auto.mileage,mi_manu.mileage,equal_var=False)\n",
    "# since p value 1.924423779471943e-53 less than 0.05, reject null"
   ]
  },
  {
   "cell_type": "code",
   "execution_count": 58,
   "id": "a5e09456",
   "metadata": {},
   "outputs": [
    {
     "data": {
      "text/plain": [
       "fuel\n",
       "CNG       301017.491228\n",
       "Diesel    791452.921627\n",
       "LPG       200421.052632\n",
       "Petrol    462441.061691\n",
       "Name: selling_price, dtype: float64"
      ]
     },
     "execution_count": 58,
     "metadata": {},
     "output_type": "execute_result"
    }
   ],
   "source": [
    "## c)\tTest Null Average selling_price of different fuel is equal\n",
    "clean_car.selling_price.groupby(clean_car.fuel).mean()"
   ]
  },
  {
   "cell_type": "code",
   "execution_count": 59,
   "id": "8b54a9a0",
   "metadata": {},
   "outputs": [],
   "source": [
    "# split data\n",
    "sp_cng=clean_car[clean_car.fuel==\"CNG\"]\n",
    "sp_diesel=clean_car[clean_car.fuel==\"Diesel\"]\n",
    "sp_lpg=clean_car[clean_car.fuel==\"LPG\"]\n",
    "sp_petrol=clean_car[clean_car.fuel==\"Petrol\"]"
   ]
  },
  {
   "cell_type": "code",
   "execution_count": 60,
   "id": "1b2470d3",
   "metadata": {},
   "outputs": [
    {
     "name": "stdout",
     "output_type": "stream",
     "text": [
      "(57, 13)\n",
      "(4402, 13)\n",
      "(38, 13)\n",
      "(3631, 13)\n"
     ]
    }
   ],
   "source": [
    "print(sp_cng.shape)\n",
    "print(sp_diesel.shape)\n",
    "print(sp_lpg.shape)\n",
    "print(sp_petrol.shape)"
   ]
  },
  {
   "cell_type": "code",
   "execution_count": 61,
   "id": "52ee298e",
   "metadata": {},
   "outputs": [],
   "source": [
    "from scipy.stats import f_oneway"
   ]
  },
  {
   "cell_type": "code",
   "execution_count": 62,
   "id": "53e6b945",
   "metadata": {},
   "outputs": [
    {
     "data": {
      "text/plain": [
       "F_onewayResult(statistic=122.88062883888716, pvalue=7.768067697277526e-78)"
      ]
     },
     "execution_count": 62,
     "metadata": {},
     "output_type": "execute_result"
    }
   ],
   "source": [
    "f_oneway(sp_cng.selling_price,sp_diesel.selling_price,sp_lpg.selling_price,sp_petrol.selling_price)\n",
    "# since p value 7.768067697277526e-78 is less than 0.05, reject null"
   ]
  },
  {
   "cell_type": "code",
   "execution_count": 63,
   "id": "b96b3cf3",
   "metadata": {},
   "outputs": [
    {
     "data": {
      "text/plain": [
       "fuel\n",
       "CNG       23.824211\n",
       "Diesel    19.634607\n",
       "LPG       18.634211\n",
       "Petrol    19.088956\n",
       "Name: mileage, dtype: float64"
      ]
     },
     "execution_count": 63,
     "metadata": {},
     "output_type": "execute_result"
    }
   ],
   "source": [
    "## d)\tTest Null Average mileage of different fuel is equal\n",
    "clean_car.mileage.groupby(clean_car.fuel).mean()"
   ]
  },
  {
   "cell_type": "code",
   "execution_count": 64,
   "id": "9522d585",
   "metadata": {},
   "outputs": [
    {
     "data": {
      "text/plain": [
       "F_onewayResult(statistic=36.842275392000154, pvalue=1.218592729218157e-23)"
      ]
     },
     "execution_count": 64,
     "metadata": {},
     "output_type": "execute_result"
    }
   ],
   "source": [
    "f_oneway(sp_cng.mileage,sp_diesel.mileage,sp_lpg.mileage,sp_petrol.mileage)\n",
    "# since p value 1.218592729218157e-23 is less than 0.05, reject null"
   ]
  },
  {
   "cell_type": "code",
   "execution_count": 65,
   "id": "9386cc03",
   "metadata": {},
   "outputs": [
    {
     "data": {
      "text/html": [
       "<div>\n",
       "<style scoped>\n",
       "    .dataframe tbody tr th:only-of-type {\n",
       "        vertical-align: middle;\n",
       "    }\n",
       "\n",
       "    .dataframe tbody tr th {\n",
       "        vertical-align: top;\n",
       "    }\n",
       "\n",
       "    .dataframe thead th {\n",
       "        text-align: right;\n",
       "    }\n",
       "</style>\n",
       "<table border=\"1\" class=\"dataframe\">\n",
       "  <thead>\n",
       "    <tr style=\"text-align: right;\">\n",
       "      <th>seller_type</th>\n",
       "      <th>Dealer</th>\n",
       "      <th>Individual</th>\n",
       "      <th>Trustmark Dealer</th>\n",
       "    </tr>\n",
       "    <tr>\n",
       "      <th>fuel</th>\n",
       "      <th></th>\n",
       "      <th></th>\n",
       "      <th></th>\n",
       "    </tr>\n",
       "  </thead>\n",
       "  <tbody>\n",
       "    <tr>\n",
       "      <th>CNG</th>\n",
       "      <td>0</td>\n",
       "      <td>57</td>\n",
       "      <td>0</td>\n",
       "    </tr>\n",
       "    <tr>\n",
       "      <th>Diesel</th>\n",
       "      <td>704</td>\n",
       "      <td>3664</td>\n",
       "      <td>34</td>\n",
       "    </tr>\n",
       "    <tr>\n",
       "      <th>LPG</th>\n",
       "      <td>2</td>\n",
       "      <td>36</td>\n",
       "      <td>0</td>\n",
       "    </tr>\n",
       "    <tr>\n",
       "      <th>Petrol</th>\n",
       "      <td>420</td>\n",
       "      <td>3009</td>\n",
       "      <td>202</td>\n",
       "    </tr>\n",
       "  </tbody>\n",
       "</table>\n",
       "</div>"
      ],
      "text/plain": [
       "seller_type  Dealer  Individual  Trustmark Dealer\n",
       "fuel                                             \n",
       "CNG               0          57                 0\n",
       "Diesel          704        3664                34\n",
       "LPG               2          36                 0\n",
       "Petrol          420        3009               202"
      ]
     },
     "execution_count": 65,
     "metadata": {},
     "output_type": "execute_result"
    }
   ],
   "source": [
    "## e)\tTest Null No Association between fuel and seller_type\n",
    "pd.crosstab(clean_car.fuel,clean_car.seller_type)"
   ]
  },
  {
   "cell_type": "code",
   "execution_count": 66,
   "id": "d0f58a6a",
   "metadata": {},
   "outputs": [],
   "source": [
    "from scipy.stats import chi2_contingency"
   ]
  },
  {
   "cell_type": "code",
   "execution_count": 67,
   "id": "8e09398b",
   "metadata": {},
   "outputs": [
    {
     "data": {
      "text/plain": [
       "(200.82868982394092,\n",
       " 1.2641980292155646e-40,\n",
       " 6,\n",
       " array([[7.89640748e+00, 4.74485728e+01, 1.65501969e+00],\n",
       "        [6.09824311e+02, 3.66436171e+03, 1.27813976e+02],\n",
       "        [5.26427165e+00, 3.16323819e+01, 1.10334646e+00],\n",
       "        [5.03015010e+02, 3.02255733e+03, 1.05427657e+02]]))"
      ]
     },
     "execution_count": 67,
     "metadata": {},
     "output_type": "execute_result"
    }
   ],
   "source": [
    "chi2_contingency(pd.crosstab(clean_car.fuel,clean_car.seller_type))\n",
    "# since p value  1.2641980292155646e-40 less than 0.05, reject null"
   ]
  },
  {
   "cell_type": "code",
   "execution_count": 68,
   "id": "ea020420",
   "metadata": {},
   "outputs": [
    {
     "data": {
      "text/html": [
       "<div>\n",
       "<style scoped>\n",
       "    .dataframe tbody tr th:only-of-type {\n",
       "        vertical-align: middle;\n",
       "    }\n",
       "\n",
       "    .dataframe tbody tr th {\n",
       "        vertical-align: top;\n",
       "    }\n",
       "\n",
       "    .dataframe thead th {\n",
       "        text-align: right;\n",
       "    }\n",
       "</style>\n",
       "<table border=\"1\" class=\"dataframe\">\n",
       "  <thead>\n",
       "    <tr style=\"text-align: right;\">\n",
       "      <th>seller_type</th>\n",
       "      <th>Dealer</th>\n",
       "      <th>Individual</th>\n",
       "      <th>Trustmark Dealer</th>\n",
       "    </tr>\n",
       "    <tr>\n",
       "      <th>owner</th>\n",
       "      <th></th>\n",
       "      <th></th>\n",
       "      <th></th>\n",
       "    </tr>\n",
       "  </thead>\n",
       "  <tbody>\n",
       "    <tr>\n",
       "      <th>First Owner</th>\n",
       "      <td>1018</td>\n",
       "      <td>4068</td>\n",
       "      <td>203</td>\n",
       "    </tr>\n",
       "    <tr>\n",
       "      <th>Fourth &amp; Above Owner</th>\n",
       "      <td>0</td>\n",
       "      <td>174</td>\n",
       "      <td>0</td>\n",
       "    </tr>\n",
       "    <tr>\n",
       "      <th>Second Owner</th>\n",
       "      <td>99</td>\n",
       "      <td>1973</td>\n",
       "      <td>33</td>\n",
       "    </tr>\n",
       "    <tr>\n",
       "      <th>Test Drive Car</th>\n",
       "      <td>5</td>\n",
       "      <td>0</td>\n",
       "      <td>0</td>\n",
       "    </tr>\n",
       "    <tr>\n",
       "      <th>Third Owner</th>\n",
       "      <td>4</td>\n",
       "      <td>551</td>\n",
       "      <td>0</td>\n",
       "    </tr>\n",
       "  </tbody>\n",
       "</table>\n",
       "</div>"
      ],
      "text/plain": [
       "seller_type           Dealer  Individual  Trustmark Dealer\n",
       "owner                                                     \n",
       "First Owner             1018        4068               203\n",
       "Fourth & Above Owner       0         174                 0\n",
       "Second Owner              99        1973                33\n",
       "Test Drive Car             5           0                 0\n",
       "Third Owner                4         551                 0"
      ]
     },
     "execution_count": 68,
     "metadata": {},
     "output_type": "execute_result"
    }
   ],
   "source": [
    "## f)\tTest Null No Association between owner and seller_type\n",
    "pd.crosstab(clean_car.owner,clean_car.seller_type)"
   ]
  },
  {
   "cell_type": "code",
   "execution_count": 69,
   "id": "6392c7cd",
   "metadata": {},
   "outputs": [
    {
     "data": {
      "text/plain": [
       "(488.8853591293214,\n",
       " 1.7045659526821565e-100,\n",
       " 8,\n",
       " array([[7.32703494e+02, 4.40272810e+03, 1.53568406e+02],\n",
       "        [2.41048228e+01, 1.44843012e+02, 5.05216535e+00],\n",
       "        [2.91612943e+02, 1.75226747e+03, 6.11195866e+01],\n",
       "        [6.92667323e-01, 4.16215551e+00, 1.45177165e-01],\n",
       "        [7.68860728e+01, 4.61999262e+02, 1.61146654e+01]]))"
      ]
     },
     "execution_count": 69,
     "metadata": {},
     "output_type": "execute_result"
    }
   ],
   "source": [
    "chi2_contingency(pd.crosstab(clean_car.owner,clean_car.seller_type))\n",
    "# since p value 1.7045659526821565e-100 less than  0.05, reject null "
   ]
  },
  {
   "cell_type": "code",
   "execution_count": 70,
   "id": "a57c9023",
   "metadata": {},
   "outputs": [],
   "source": [
    "clean_car[\"carage\"]=2022-(clean_car.year)"
   ]
  },
  {
   "cell_type": "code",
   "execution_count": 71,
   "id": "a47f2938",
   "metadata": {},
   "outputs": [],
   "source": [
    "clean_car=clean_car.drop(\"year\",axis=1)"
   ]
  },
  {
   "cell_type": "code",
   "execution_count": 72,
   "id": "3ee5656f",
   "metadata": {},
   "outputs": [
    {
     "name": "stdout",
     "output_type": "stream",
     "text": [
      "<class 'pandas.core.frame.DataFrame'>\n",
      "RangeIndex: 8128 entries, 0 to 8127\n",
      "Data columns (total 13 columns):\n",
      " #   Column         Non-Null Count  Dtype  \n",
      "---  ------         --------------  -----  \n",
      " 0   name           8128 non-null   object \n",
      " 1   fuel           8128 non-null   object \n",
      " 2   seller_type    8128 non-null   object \n",
      " 3   transmission   8128 non-null   object \n",
      " 4   owner          8128 non-null   object \n",
      " 5   max_power      8128 non-null   object \n",
      " 6   torque         8128 non-null   object \n",
      " 7   selling_price  8128 non-null   int64  \n",
      " 8   km_driven      8128 non-null   int64  \n",
      " 9   mileage        8128 non-null   float64\n",
      " 10  engine         8128 non-null   float64\n",
      " 11  seats          8128 non-null   float64\n",
      " 12  carage         8128 non-null   int64  \n",
      "dtypes: float64(3), int64(3), object(7)\n",
      "memory usage: 825.6+ KB\n"
     ]
    }
   ],
   "source": [
    "clean_car.info()"
   ]
  },
  {
   "cell_type": "code",
   "execution_count": 73,
   "id": "7c617108",
   "metadata": {},
   "outputs": [],
   "source": [
    "clean_car.torque=clean_car.torque.replace(\"4,500\",4500)"
   ]
  },
  {
   "cell_type": "code",
   "execution_count": 74,
   "id": "2110a5ef",
   "metadata": {},
   "outputs": [
    {
     "data": {
      "text/plain": [
       "4000     1419\n",
       "2000      850\n",
       "3500      757\n",
       "3000      712\n",
       "2500      703\n",
       "1750      556\n",
       "2750      453\n",
       "2800      401\n",
       "4200      306\n",
       "4500      258\n",
       "3400      182\n",
       "2200      168\n",
       "2250      138\n",
       "4800      136\n",
       "2700      105\n",
       "3600       85\n",
       "4250       80\n",
       "4386       77\n",
       "3250       74\n",
       "4600       70\n",
       "4400       69\n",
       "2400       63\n",
       "1900       50\n",
       "3800       49\n",
       "1800       44\n",
       "4300       40\n",
       "2600       34\n",
       "5200       34\n",
       "5000       33\n",
       "1500       31\n",
       "4850       28\n",
       "4100       28\n",
       "3200       23\n",
       "3750       23\n",
       "4700       11\n",
       "4750       10\n",
       "3100        6\n",
       "4500        6\n",
       "1400        3\n",
       "3300        3\n",
       "2680        1\n",
       "4388        1\n",
       "1850        1\n",
       "21800       1\n",
       "3700        1\n",
       "1600        1\n",
       "500         1\n",
       "1740        1\n",
       "2650        1\n",
       "5300        1\n",
       "Name: torque, dtype: int64"
      ]
     },
     "execution_count": 74,
     "metadata": {},
     "output_type": "execute_result"
    }
   ],
   "source": [
    "clean_car.torque.value_counts()"
   ]
  },
  {
   "cell_type": "code",
   "execution_count": 75,
   "id": "80770730",
   "metadata": {},
   "outputs": [
    {
     "data": {
      "text/plain": [
       "0       2000\n",
       "1       2500\n",
       "2       2700\n",
       "3       4000\n",
       "4       4500\n",
       "        ... \n",
       "8123    4000\n",
       "8124    2750\n",
       "8125    2000\n",
       "8126    3000\n",
       "8127    3000\n",
       "Name: torque, Length: 8128, dtype: int64"
      ]
     },
     "execution_count": 75,
     "metadata": {},
     "output_type": "execute_result"
    }
   ],
   "source": [
    "clean_car.torque.astype(\"int64\")"
   ]
  },
  {
   "cell_type": "code",
   "execution_count": 76,
   "id": "e703b6f5",
   "metadata": {},
   "outputs": [
    {
     "name": "stdout",
     "output_type": "stream",
     "text": [
      "<class 'pandas.core.frame.DataFrame'>\n",
      "RangeIndex: 8128 entries, 0 to 8127\n",
      "Data columns (total 13 columns):\n",
      " #   Column         Non-Null Count  Dtype  \n",
      "---  ------         --------------  -----  \n",
      " 0   name           8128 non-null   object \n",
      " 1   fuel           8128 non-null   object \n",
      " 2   seller_type    8128 non-null   object \n",
      " 3   transmission   8128 non-null   object \n",
      " 4   owner          8128 non-null   object \n",
      " 5   max_power      8128 non-null   object \n",
      " 6   torque         8128 non-null   object \n",
      " 7   selling_price  8128 non-null   int64  \n",
      " 8   km_driven      8128 non-null   int64  \n",
      " 9   mileage        8128 non-null   float64\n",
      " 10  engine         8128 non-null   float64\n",
      " 11  seats          8128 non-null   float64\n",
      " 12  carage         8128 non-null   int64  \n",
      "dtypes: float64(3), int64(3), object(7)\n",
      "memory usage: 825.6+ KB\n"
     ]
    }
   ],
   "source": [
    "clean_car.info()"
   ]
  },
  {
   "cell_type": "code",
   "execution_count": 77,
   "id": "f98b6546",
   "metadata": {},
   "outputs": [
    {
     "data": {
      "text/plain": [
       "74         592\n",
       "88.5       222\n",
       "81.8       220\n",
       "67         165\n",
       "46.3       162\n",
       "67.1       151\n",
       "88.7       148\n",
       "67.04      145\n",
       "62.1       141\n",
       "47.3       141\n",
       "70         141\n",
       "88.73      132\n",
       "120        131\n",
       "81.86      131\n",
       "140        128\n",
       "68         127\n",
       "88.76      124\n",
       "73.9       124\n",
       "55.2       121\n",
       "98.6       118\n",
       "67.05      117\n",
       "190        110\n",
       "75         108\n",
       "82         108\n",
       "63         100\n",
       "81.83       97\n",
       "85.8        94\n",
       "37          92\n",
       "100         90\n",
       "100.6       87\n",
       "78.9        85\n",
       "102         84\n",
       "90          82\n",
       "69          77\n",
       "126.2       75\n",
       "68.05       74\n",
       "88.8        70\n",
       "74.02       66\n",
       "177         65\n",
       "126.32      65\n",
       "53.3        64\n",
       "84          63\n",
       "73.97       61\n",
       "83.8        58\n",
       "108.5       57\n",
       "138.1       55\n",
       "86.8        51\n",
       "98.96       49\n",
       "103.6       48\n",
       "117.3       47\n",
       "108.45      46\n",
       "80          45\n",
       "83.1        45\n",
       "147.94      45\n",
       "121.3       44\n",
       "103.5       43\n",
       "62          43\n",
       "71          43\n",
       "110         41\n",
       "73          38\n",
       "99          38\n",
       "93.7        34\n",
       "214.56      34\n",
       "157.7       33\n",
       "150         32\n",
       "98.59       32\n",
       "69.01       31\n",
       "73.94       31\n",
       "170         30\n",
       "78          29\n",
       "103.2       29\n",
       "138.03      28\n",
       "83.14       28\n",
       "60          27\n",
       "105         27\n",
       "65          26\n",
       "112         25\n",
       "57.6        25\n",
       "118         24\n",
       "77          23\n",
       "91.1        22\n",
       "35          22\n",
       "34.2        21\n",
       "153.86      21\n",
       "84.8        21\n",
       "82.85       21\n",
       "168.5       20\n",
       "147.8       20\n",
       "79.4        20\n",
       "147.9       19\n",
       "171.5       19\n",
       "64          18\n",
       "66.1        18\n",
       "95          17\n",
       "94          17\n",
       "116.3       17\n",
       "187.74      17\n",
       "64.1        16\n",
       "98.63       16\n",
       "115         16\n",
       "61.7        15\n",
       "72.4        15\n",
       "85          15\n",
       "86.7        15\n",
       "184         14\n",
       "138         14\n",
       "117.6       14\n",
       "141         14\n",
       "126.3       14\n",
       "108.6       14\n",
       "121         13\n",
       "152.87      13\n",
       "58.16       13\n",
       "174.5       13\n",
       "103.52      13\n",
       "52.8        12\n",
       "73.8        12\n",
       "53.64       12\n",
       "53.5        12\n",
       "82.4        12\n",
       "68.1        11\n",
       "130         11\n",
       "56.3        11\n",
       "37.48       11\n",
       "94.93       11\n",
       "105.5       11\n",
       "67.06       11\n",
       "108.62      11\n",
       "83.83       11\n",
       "63.1        11\n",
       "58.2        11\n",
       "73.74       10\n",
       "110.4       10\n",
       "76          10\n",
       "91.7        10\n",
       "87.2        10\n",
       "171         10\n",
       "104.68      10\n",
       "97.7        10\n",
       "174.33       9\n",
       "163.7        9\n",
       "99.6         9\n",
       "83           9\n",
       "241.4        9\n",
       "88.2         9\n",
       "97.9         9\n",
       "123.7        9\n",
       "113.42       8\n",
       "76.8         8\n",
       "76.9         8\n",
       "181          8\n",
       "103.3        8\n",
       "72           8\n",
       "66           8\n",
       "89.84        8\n",
       "88           7\n",
       "83.81        7\n",
       "108.495      7\n",
       "125          7\n",
       "188          7\n",
       "94.68        7\n",
       "147.51       7\n",
       "204          7\n",
       "73.75        7\n",
       "57.5         6\n",
       "280          6\n",
       "65.3         6\n",
       "103.25       6\n",
       "74.96        6\n",
       "37.5         6\n",
       "47           6\n",
       "261.4        6\n",
       "83.11        6\n",
       "92           6\n",
       "116.6        6\n",
       "0            6\n",
       "118.35       6\n",
       "63.12        6\n",
       "147.5        6\n",
       "175.56       5\n",
       "91.72        5\n",
       "121.36       5\n",
       "194.3        5\n",
       "197          5\n",
       "160          5\n",
       "89.75        5\n",
       "100.57       5\n",
       "136          5\n",
       "148          5\n",
       "158.8        4\n",
       "118.3        4\n",
       "187.7        4\n",
       "177.6        4\n",
       "53           4\n",
       "148.31       4\n",
       "187.4        4\n",
       "99.23        4\n",
       "74.9         4\n",
       "127          4\n",
       "178          4\n",
       "121.4        4\n",
       "183          4\n",
       "113.4        4\n",
       "270.9        4\n",
       "71.01        4\n",
       "198.25       3\n",
       "143          3\n",
       "102.5        3\n",
       "40.3         3\n",
       "235          3\n",
       "116.4        3\n",
       "64.4         3\n",
       "45           3\n",
       "254.8        3\n",
       "122.4        3\n",
       "68.07        3\n",
       "58           3\n",
       "84.48        3\n",
       "104.55       3\n",
       "52           3\n",
       "165          3\n",
       "139.01       3\n",
       "100.5        3\n",
       "254.79       3\n",
       "218          3\n",
       "177.5        2\n",
       "106          2\n",
       "120.69       2\n",
       "82.5         2\n",
       "38           2\n",
       "258          2\n",
       "164.7        2\n",
       "32.8         2\n",
       "66.6         2\n",
       "80.8         2\n",
       "181.04       2\n",
       "177.46       2\n",
       "103          2\n",
       "105.3        2\n",
       "101          2\n",
       "174.57       2\n",
       "48.21        2\n",
       "241          2\n",
       "132          2\n",
       "91.2         2\n",
       "152          2\n",
       "126.24       2\n",
       "78.8         2\n",
       "167.67       2\n",
       "142          2\n",
       "64.08        2\n",
       "160.77       2\n",
       "38.4         2\n",
       "35.5         2\n",
       "134.1        2\n",
       "123.37       2\n",
       "98.97        2\n",
       "189          2\n",
       "121.31       2\n",
       "93.87        2\n",
       "158          2\n",
       "82.9         2\n",
       "120.7        2\n",
       "53.26        2\n",
       "194.4        2\n",
       "155          1\n",
       "198.5        1\n",
       "144          1\n",
       "58.3         1\n",
       "189.3        1\n",
       "135.1        1\n",
       "104.5        1\n",
       "92.7         1\n",
       "149.5        1\n",
       "282          1\n",
       "170.63       1\n",
       "167.6        1\n",
       "168.7        1\n",
       "141.1        1\n",
       "104          1\n",
       "201.1        1\n",
       "175          1\n",
       "60.2         1\n",
       "58.33        1\n",
       "98.82        1\n",
       "224          1\n",
       "272          1\n",
       "179.5        1\n",
       "400          1\n",
       "163.2        1\n",
       "167.62       1\n",
       "186          1\n",
       "80.9         1\n",
       "203          1\n",
       "161          1\n",
       "98.79        1\n",
       "197.2        1\n",
       "156          1\n",
       "194          1\n",
       "170.3        1\n",
       "138.08       1\n",
       "             1\n",
       "139.46       1\n",
       "68.4         1\n",
       "55.23        1\n",
       "116.9        1\n",
       "86           1\n",
       "64.9         1\n",
       "265          1\n",
       "80.84        1\n",
       "134          1\n",
       "86.79        1\n",
       "157.75       1\n",
       "203.2        1\n",
       "103.26       1\n",
       "57           1\n",
       "169          1\n",
       "112.2        1\n",
       "110.5        1\n",
       "162          1\n",
       "Name: max_power, dtype: int64"
      ]
     },
     "execution_count": 77,
     "metadata": {},
     "output_type": "execute_result"
    }
   ],
   "source": [
    "pd.set_option(\"display.max_rows\",320)\n",
    "clean_car.max_power.value_counts()"
   ]
  },
  {
   "cell_type": "code",
   "execution_count": 78,
   "id": "d7d48966",
   "metadata": {},
   "outputs": [],
   "source": [
    "clean_car.max_power=clean_car.max_power.replace(\" \",74)"
   ]
  },
  {
   "cell_type": "code",
   "execution_count": 79,
   "id": "7830f6a1",
   "metadata": {},
   "outputs": [
    {
     "data": {
      "text/plain": [
       "0        74.00\n",
       "1       103.52\n",
       "2        78.00\n",
       "3        90.00\n",
       "4        88.20\n",
       "         ...  \n",
       "8123     82.85\n",
       "8124    110.00\n",
       "8125     73.90\n",
       "8126     70.00\n",
       "8127     70.00\n",
       "Name: max_power, Length: 8128, dtype: float64"
      ]
     },
     "execution_count": 79,
     "metadata": {},
     "output_type": "execute_result"
    }
   ],
   "source": [
    "clean_car.max_power.astype(\"float64\")"
   ]
  },
  {
   "cell_type": "code",
   "execution_count": 80,
   "id": "3b84ac2f",
   "metadata": {},
   "outputs": [],
   "source": [
    "object1=clean_car[[\"seller_type\",\"transmission\",\"owner\"]]\n",
    "numeric1=clean_car[[\"torque\",\"selling_price\",\"km_driven\",\"mileage\",\"engine\",\"seats\",\"max_power\",\"carage\"]]"
   ]
  },
  {
   "cell_type": "code",
   "execution_count": 83,
   "id": "04c907fe",
   "metadata": {},
   "outputs": [
    {
     "name": "stdout",
     "output_type": "stream",
     "text": [
      "<class 'pandas.core.frame.DataFrame'>\n",
      "RangeIndex: 8128 entries, 0 to 8127\n",
      "Data columns (total 3 columns):\n",
      " #   Column        Non-Null Count  Dtype \n",
      "---  ------        --------------  ----- \n",
      " 0   seller_type   8128 non-null   object\n",
      " 1   transmission  8128 non-null   object\n",
      " 2   owner         8128 non-null   object\n",
      "dtypes: object(3)\n",
      "memory usage: 190.6+ KB\n"
     ]
    }
   ],
   "source": [
    "object1.info()"
   ]
  },
  {
   "cell_type": "code",
   "execution_count": 84,
   "id": "aa077298",
   "metadata": {},
   "outputs": [
    {
     "data": {
      "text/html": [
       "<div>\n",
       "<style scoped>\n",
       "    .dataframe tbody tr th:only-of-type {\n",
       "        vertical-align: middle;\n",
       "    }\n",
       "\n",
       "    .dataframe tbody tr th {\n",
       "        vertical-align: top;\n",
       "    }\n",
       "\n",
       "    .dataframe thead th {\n",
       "        text-align: right;\n",
       "    }\n",
       "</style>\n",
       "<table border=\"1\" class=\"dataframe\">\n",
       "  <thead>\n",
       "    <tr style=\"text-align: right;\">\n",
       "      <th></th>\n",
       "      <th>torque</th>\n",
       "      <th>selling_price</th>\n",
       "      <th>km_driven</th>\n",
       "      <th>mileage</th>\n",
       "      <th>engine</th>\n",
       "      <th>seats</th>\n",
       "      <th>max_power</th>\n",
       "      <th>carage</th>\n",
       "    </tr>\n",
       "  </thead>\n",
       "  <tbody>\n",
       "    <tr>\n",
       "      <th>0</th>\n",
       "      <td>2000</td>\n",
       "      <td>450000</td>\n",
       "      <td>145500</td>\n",
       "      <td>23.40</td>\n",
       "      <td>1248.0</td>\n",
       "      <td>5.0</td>\n",
       "      <td>74</td>\n",
       "      <td>8</td>\n",
       "    </tr>\n",
       "    <tr>\n",
       "      <th>1</th>\n",
       "      <td>2500</td>\n",
       "      <td>370000</td>\n",
       "      <td>120000</td>\n",
       "      <td>21.14</td>\n",
       "      <td>1498.0</td>\n",
       "      <td>5.0</td>\n",
       "      <td>103.52</td>\n",
       "      <td>8</td>\n",
       "    </tr>\n",
       "    <tr>\n",
       "      <th>2</th>\n",
       "      <td>2700</td>\n",
       "      <td>158000</td>\n",
       "      <td>140000</td>\n",
       "      <td>17.70</td>\n",
       "      <td>1497.0</td>\n",
       "      <td>5.0</td>\n",
       "      <td>78</td>\n",
       "      <td>16</td>\n",
       "    </tr>\n",
       "    <tr>\n",
       "      <th>3</th>\n",
       "      <td>4000</td>\n",
       "      <td>225000</td>\n",
       "      <td>127000</td>\n",
       "      <td>23.00</td>\n",
       "      <td>1396.0</td>\n",
       "      <td>5.0</td>\n",
       "      <td>90</td>\n",
       "      <td>12</td>\n",
       "    </tr>\n",
       "    <tr>\n",
       "      <th>4</th>\n",
       "      <td>4500</td>\n",
       "      <td>130000</td>\n",
       "      <td>120000</td>\n",
       "      <td>16.10</td>\n",
       "      <td>1298.0</td>\n",
       "      <td>5.0</td>\n",
       "      <td>88.2</td>\n",
       "      <td>15</td>\n",
       "    </tr>\n",
       "  </tbody>\n",
       "</table>\n",
       "</div>"
      ],
      "text/plain": [
       "  torque  selling_price  km_driven  mileage  engine  seats max_power  carage\n",
       "0   2000         450000     145500    23.40  1248.0    5.0        74       8\n",
       "1   2500         370000     120000    21.14  1498.0    5.0    103.52       8\n",
       "2   2700         158000     140000    17.70  1497.0    5.0        78      16\n",
       "3   4000         225000     127000    23.00  1396.0    5.0        90      12\n",
       "4   4500         130000     120000    16.10  1298.0    5.0      88.2      15"
      ]
     },
     "execution_count": 84,
     "metadata": {},
     "output_type": "execute_result"
    }
   ],
   "source": [
    "numeric1.head()"
   ]
  },
  {
   "cell_type": "code",
   "execution_count": 85,
   "id": "5c4fdf5d",
   "metadata": {},
   "outputs": [],
   "source": [
    "from sklearn.preprocessing import StandardScaler"
   ]
  },
  {
   "cell_type": "code",
   "execution_count": 86,
   "id": "af5f2767",
   "metadata": {},
   "outputs": [],
   "source": [
    "scaler=StandardScaler()"
   ]
  },
  {
   "cell_type": "code",
   "execution_count": 87,
   "id": "378ff4ee",
   "metadata": {},
   "outputs": [],
   "source": [
    "numeric_scaled=scaler.fit_transform(numeric1)"
   ]
  },
  {
   "cell_type": "code",
   "execution_count": 88,
   "id": "3190980c",
   "metadata": {},
   "outputs": [],
   "source": [
    "numeric_scaled=pd.DataFrame(numeric_scaled,columns=numeric1.columns[0:8])"
   ]
  },
  {
   "cell_type": "code",
   "execution_count": 89,
   "id": "5c9f8ca9",
   "metadata": {},
   "outputs": [
    {
     "data": {
      "text/html": [
       "<div>\n",
       "<style scoped>\n",
       "    .dataframe tbody tr th:only-of-type {\n",
       "        vertical-align: middle;\n",
       "    }\n",
       "\n",
       "    .dataframe tbody tr th {\n",
       "        vertical-align: top;\n",
       "    }\n",
       "\n",
       "    .dataframe thead th {\n",
       "        text-align: right;\n",
       "    }\n",
       "</style>\n",
       "<table border=\"1\" class=\"dataframe\">\n",
       "  <thead>\n",
       "    <tr style=\"text-align: right;\">\n",
       "      <th></th>\n",
       "      <th>torque</th>\n",
       "      <th>selling_price</th>\n",
       "      <th>km_driven</th>\n",
       "      <th>mileage</th>\n",
       "      <th>engine</th>\n",
       "      <th>seats</th>\n",
       "      <th>max_power</th>\n",
       "      <th>carage</th>\n",
       "    </tr>\n",
       "  </thead>\n",
       "  <tbody>\n",
       "    <tr>\n",
       "      <th>0</th>\n",
       "      <td>-1.243391</td>\n",
       "      <td>-0.233529</td>\n",
       "      <td>1.338363</td>\n",
       "      <td>1.000696</td>\n",
       "      <td>-0.411305</td>\n",
       "      <td>-0.427258</td>\n",
       "      <td>-0.480983</td>\n",
       "      <td>-0.048464</td>\n",
       "    </tr>\n",
       "    <tr>\n",
       "      <th>1</th>\n",
       "      <td>-0.700721</td>\n",
       "      <td>-0.332759</td>\n",
       "      <td>0.887411</td>\n",
       "      <td>0.433095</td>\n",
       "      <td>0.090536</td>\n",
       "      <td>-0.427258</td>\n",
       "      <td>0.351664</td>\n",
       "      <td>-0.048464</td>\n",
       "    </tr>\n",
       "    <tr>\n",
       "      <th>2</th>\n",
       "      <td>-0.483653</td>\n",
       "      <td>-0.595720</td>\n",
       "      <td>1.241098</td>\n",
       "      <td>-0.430862</td>\n",
       "      <td>0.088528</td>\n",
       "      <td>-0.427258</td>\n",
       "      <td>-0.368158</td>\n",
       "      <td>1.929775</td>\n",
       "    </tr>\n",
       "    <tr>\n",
       "      <th>3</th>\n",
       "      <td>0.927289</td>\n",
       "      <td>-0.512615</td>\n",
       "      <td>1.011202</td>\n",
       "      <td>0.900235</td>\n",
       "      <td>-0.114215</td>\n",
       "      <td>-0.427258</td>\n",
       "      <td>-0.029684</td>\n",
       "      <td>0.940656</td>\n",
       "    </tr>\n",
       "    <tr>\n",
       "      <th>4</th>\n",
       "      <td>1.469959</td>\n",
       "      <td>-0.630451</td>\n",
       "      <td>0.887411</td>\n",
       "      <td>-0.832703</td>\n",
       "      <td>-0.310937</td>\n",
       "      <td>-0.427258</td>\n",
       "      <td>-0.080455</td>\n",
       "      <td>1.682495</td>\n",
       "    </tr>\n",
       "  </tbody>\n",
       "</table>\n",
       "</div>"
      ],
      "text/plain": [
       "     torque  selling_price  km_driven   mileage    engine     seats  \\\n",
       "0 -1.243391      -0.233529   1.338363  1.000696 -0.411305 -0.427258   \n",
       "1 -0.700721      -0.332759   0.887411  0.433095  0.090536 -0.427258   \n",
       "2 -0.483653      -0.595720   1.241098 -0.430862  0.088528 -0.427258   \n",
       "3  0.927289      -0.512615   1.011202  0.900235 -0.114215 -0.427258   \n",
       "4  1.469959      -0.630451   0.887411 -0.832703 -0.310937 -0.427258   \n",
       "\n",
       "   max_power    carage  \n",
       "0  -0.480983 -0.048464  \n",
       "1   0.351664 -0.048464  \n",
       "2  -0.368158  1.929775  \n",
       "3  -0.029684  0.940656  \n",
       "4  -0.080455  1.682495  "
      ]
     },
     "execution_count": 89,
     "metadata": {},
     "output_type": "execute_result"
    }
   ],
   "source": [
    "numeric_scaled.head()"
   ]
  },
  {
   "cell_type": "code",
   "execution_count": 90,
   "id": "8bbd68d8",
   "metadata": {},
   "outputs": [
    {
     "data": {
      "text/html": [
       "<div>\n",
       "<style scoped>\n",
       "    .dataframe tbody tr th:only-of-type {\n",
       "        vertical-align: middle;\n",
       "    }\n",
       "\n",
       "    .dataframe tbody tr th {\n",
       "        vertical-align: top;\n",
       "    }\n",
       "\n",
       "    .dataframe thead th {\n",
       "        text-align: right;\n",
       "    }\n",
       "</style>\n",
       "<table border=\"1\" class=\"dataframe\">\n",
       "  <thead>\n",
       "    <tr style=\"text-align: right;\">\n",
       "      <th></th>\n",
       "      <th>seller_type</th>\n",
       "      <th>transmission</th>\n",
       "      <th>owner</th>\n",
       "    </tr>\n",
       "  </thead>\n",
       "  <tbody>\n",
       "    <tr>\n",
       "      <th>0</th>\n",
       "      <td>Individual</td>\n",
       "      <td>Manual</td>\n",
       "      <td>First Owner</td>\n",
       "    </tr>\n",
       "    <tr>\n",
       "      <th>1</th>\n",
       "      <td>Individual</td>\n",
       "      <td>Manual</td>\n",
       "      <td>Second Owner</td>\n",
       "    </tr>\n",
       "    <tr>\n",
       "      <th>2</th>\n",
       "      <td>Individual</td>\n",
       "      <td>Manual</td>\n",
       "      <td>Third Owner</td>\n",
       "    </tr>\n",
       "    <tr>\n",
       "      <th>3</th>\n",
       "      <td>Individual</td>\n",
       "      <td>Manual</td>\n",
       "      <td>First Owner</td>\n",
       "    </tr>\n",
       "    <tr>\n",
       "      <th>4</th>\n",
       "      <td>Individual</td>\n",
       "      <td>Manual</td>\n",
       "      <td>First Owner</td>\n",
       "    </tr>\n",
       "  </tbody>\n",
       "</table>\n",
       "</div>"
      ],
      "text/plain": [
       "  seller_type transmission         owner\n",
       "0  Individual       Manual   First Owner\n",
       "1  Individual       Manual  Second Owner\n",
       "2  Individual       Manual   Third Owner\n",
       "3  Individual       Manual   First Owner\n",
       "4  Individual       Manual   First Owner"
      ]
     },
     "execution_count": 90,
     "metadata": {},
     "output_type": "execute_result"
    }
   ],
   "source": [
    "object1.head()"
   ]
  },
  {
   "cell_type": "code",
   "execution_count": 91,
   "id": "2db4b696",
   "metadata": {},
   "outputs": [],
   "source": [
    "object__dummy=pd.get_dummies(object1)"
   ]
  },
  {
   "cell_type": "code",
   "execution_count": 92,
   "id": "8b95e20b",
   "metadata": {},
   "outputs": [
    {
     "data": {
      "text/html": [
       "<div>\n",
       "<style scoped>\n",
       "    .dataframe tbody tr th:only-of-type {\n",
       "        vertical-align: middle;\n",
       "    }\n",
       "\n",
       "    .dataframe tbody tr th {\n",
       "        vertical-align: top;\n",
       "    }\n",
       "\n",
       "    .dataframe thead th {\n",
       "        text-align: right;\n",
       "    }\n",
       "</style>\n",
       "<table border=\"1\" class=\"dataframe\">\n",
       "  <thead>\n",
       "    <tr style=\"text-align: right;\">\n",
       "      <th></th>\n",
       "      <th>seller_type_Dealer</th>\n",
       "      <th>seller_type_Individual</th>\n",
       "      <th>seller_type_Trustmark Dealer</th>\n",
       "      <th>transmission_Automatic</th>\n",
       "      <th>transmission_Manual</th>\n",
       "      <th>owner_First Owner</th>\n",
       "      <th>owner_Fourth &amp; Above Owner</th>\n",
       "      <th>owner_Second Owner</th>\n",
       "      <th>owner_Test Drive Car</th>\n",
       "      <th>owner_Third Owner</th>\n",
       "    </tr>\n",
       "  </thead>\n",
       "  <tbody>\n",
       "    <tr>\n",
       "      <th>0</th>\n",
       "      <td>0</td>\n",
       "      <td>1</td>\n",
       "      <td>0</td>\n",
       "      <td>0</td>\n",
       "      <td>1</td>\n",
       "      <td>1</td>\n",
       "      <td>0</td>\n",
       "      <td>0</td>\n",
       "      <td>0</td>\n",
       "      <td>0</td>\n",
       "    </tr>\n",
       "    <tr>\n",
       "      <th>1</th>\n",
       "      <td>0</td>\n",
       "      <td>1</td>\n",
       "      <td>0</td>\n",
       "      <td>0</td>\n",
       "      <td>1</td>\n",
       "      <td>0</td>\n",
       "      <td>0</td>\n",
       "      <td>1</td>\n",
       "      <td>0</td>\n",
       "      <td>0</td>\n",
       "    </tr>\n",
       "    <tr>\n",
       "      <th>2</th>\n",
       "      <td>0</td>\n",
       "      <td>1</td>\n",
       "      <td>0</td>\n",
       "      <td>0</td>\n",
       "      <td>1</td>\n",
       "      <td>0</td>\n",
       "      <td>0</td>\n",
       "      <td>0</td>\n",
       "      <td>0</td>\n",
       "      <td>1</td>\n",
       "    </tr>\n",
       "    <tr>\n",
       "      <th>3</th>\n",
       "      <td>0</td>\n",
       "      <td>1</td>\n",
       "      <td>0</td>\n",
       "      <td>0</td>\n",
       "      <td>1</td>\n",
       "      <td>1</td>\n",
       "      <td>0</td>\n",
       "      <td>0</td>\n",
       "      <td>0</td>\n",
       "      <td>0</td>\n",
       "    </tr>\n",
       "    <tr>\n",
       "      <th>4</th>\n",
       "      <td>0</td>\n",
       "      <td>1</td>\n",
       "      <td>0</td>\n",
       "      <td>0</td>\n",
       "      <td>1</td>\n",
       "      <td>1</td>\n",
       "      <td>0</td>\n",
       "      <td>0</td>\n",
       "      <td>0</td>\n",
       "      <td>0</td>\n",
       "    </tr>\n",
       "  </tbody>\n",
       "</table>\n",
       "</div>"
      ],
      "text/plain": [
       "   seller_type_Dealer  seller_type_Individual  seller_type_Trustmark Dealer  \\\n",
       "0                   0                       1                             0   \n",
       "1                   0                       1                             0   \n",
       "2                   0                       1                             0   \n",
       "3                   0                       1                             0   \n",
       "4                   0                       1                             0   \n",
       "\n",
       "   transmission_Automatic  transmission_Manual  owner_First Owner  \\\n",
       "0                       0                    1                  1   \n",
       "1                       0                    1                  0   \n",
       "2                       0                    1                  0   \n",
       "3                       0                    1                  1   \n",
       "4                       0                    1                  1   \n",
       "\n",
       "   owner_Fourth & Above Owner  owner_Second Owner  owner_Test Drive Car  \\\n",
       "0                           0                   0                     0   \n",
       "1                           0                   1                     0   \n",
       "2                           0                   0                     0   \n",
       "3                           0                   0                     0   \n",
       "4                           0                   0                     0   \n",
       "\n",
       "   owner_Third Owner  \n",
       "0                  0  \n",
       "1                  0  \n",
       "2                  1  \n",
       "3                  0  \n",
       "4                  0  "
      ]
     },
     "execution_count": 92,
     "metadata": {},
     "output_type": "execute_result"
    }
   ],
   "source": [
    "object__dummy.head()"
   ]
  },
  {
   "cell_type": "code",
   "execution_count": 93,
   "id": "8dd8e6e8",
   "metadata": {},
   "outputs": [
    {
     "data": {
      "text/html": [
       "<div>\n",
       "<style scoped>\n",
       "    .dataframe tbody tr th:only-of-type {\n",
       "        vertical-align: middle;\n",
       "    }\n",
       "\n",
       "    .dataframe tbody tr th {\n",
       "        vertical-align: top;\n",
       "    }\n",
       "\n",
       "    .dataframe thead th {\n",
       "        text-align: right;\n",
       "    }\n",
       "</style>\n",
       "<table border=\"1\" class=\"dataframe\">\n",
       "  <thead>\n",
       "    <tr style=\"text-align: right;\">\n",
       "      <th></th>\n",
       "      <th>selling_price</th>\n",
       "      <th>km_driven</th>\n",
       "      <th>mileage</th>\n",
       "      <th>engine</th>\n",
       "      <th>seats</th>\n",
       "      <th>carage</th>\n",
       "    </tr>\n",
       "  </thead>\n",
       "  <tbody>\n",
       "    <tr>\n",
       "      <th>selling_price</th>\n",
       "      <td>1.000000</td>\n",
       "      <td>-0.225534</td>\n",
       "      <td>-0.125040</td>\n",
       "      <td>0.458345</td>\n",
       "      <td>0.047135</td>\n",
       "      <td>-0.414092</td>\n",
       "    </tr>\n",
       "    <tr>\n",
       "      <th>km_driven</th>\n",
       "      <td>-0.225534</td>\n",
       "      <td>1.000000</td>\n",
       "      <td>-0.171746</td>\n",
       "      <td>0.198911</td>\n",
       "      <td>0.219860</td>\n",
       "      <td>0.418006</td>\n",
       "    </tr>\n",
       "    <tr>\n",
       "      <th>mileage</th>\n",
       "      <td>-0.125040</td>\n",
       "      <td>-0.171746</td>\n",
       "      <td>1.000000</td>\n",
       "      <td>-0.574128</td>\n",
       "      <td>-0.450578</td>\n",
       "      <td>-0.311657</td>\n",
       "    </tr>\n",
       "    <tr>\n",
       "      <th>engine</th>\n",
       "      <td>0.458345</td>\n",
       "      <td>0.198911</td>\n",
       "      <td>-0.574128</td>\n",
       "      <td>1.000000</td>\n",
       "      <td>0.612220</td>\n",
       "      <td>-0.035851</td>\n",
       "    </tr>\n",
       "    <tr>\n",
       "      <th>seats</th>\n",
       "      <td>0.047135</td>\n",
       "      <td>0.219860</td>\n",
       "      <td>-0.450578</td>\n",
       "      <td>0.612220</td>\n",
       "      <td>1.000000</td>\n",
       "      <td>-0.010222</td>\n",
       "    </tr>\n",
       "    <tr>\n",
       "      <th>carage</th>\n",
       "      <td>-0.414092</td>\n",
       "      <td>0.418006</td>\n",
       "      <td>-0.311657</td>\n",
       "      <td>-0.035851</td>\n",
       "      <td>-0.010222</td>\n",
       "      <td>1.000000</td>\n",
       "    </tr>\n",
       "  </tbody>\n",
       "</table>\n",
       "</div>"
      ],
      "text/plain": [
       "               selling_price  km_driven   mileage    engine     seats  \\\n",
       "selling_price       1.000000  -0.225534 -0.125040  0.458345  0.047135   \n",
       "km_driven          -0.225534   1.000000 -0.171746  0.198911  0.219860   \n",
       "mileage            -0.125040  -0.171746  1.000000 -0.574128 -0.450578   \n",
       "engine              0.458345   0.198911 -0.574128  1.000000  0.612220   \n",
       "seats               0.047135   0.219860 -0.450578  0.612220  1.000000   \n",
       "carage             -0.414092   0.418006 -0.311657 -0.035851 -0.010222   \n",
       "\n",
       "                 carage  \n",
       "selling_price -0.414092  \n",
       "km_driven      0.418006  \n",
       "mileage       -0.311657  \n",
       "engine        -0.035851  \n",
       "seats         -0.010222  \n",
       "carage         1.000000  "
      ]
     },
     "execution_count": 93,
     "metadata": {},
     "output_type": "execute_result"
    }
   ],
   "source": [
    "numeric1.corr()"
   ]
  },
  {
   "cell_type": "code",
   "execution_count": 94,
   "id": "43631f8b",
   "metadata": {},
   "outputs": [],
   "source": [
    "import seaborn as sns"
   ]
  },
  {
   "cell_type": "code",
   "execution_count": 95,
   "id": "791dcde9",
   "metadata": {},
   "outputs": [
    {
     "data": {
      "image/png": "[encoded data removed]",
      "text/plain": [
       "<Figure size 2160x1080 with 2 Axes>"
      ]
     },
     "metadata": {
      "needs_background": "light"
     },
     "output_type": "display_data"
    }
   ],
   "source": [
    "plt.figure(figsize=(30,15))\n",
    "sns.heatmap(numeric1.corr(),annot=True)\n",
    "plt.show()"
   ]
  },
  {
   "cell_type": "code",
   "execution_count": 96,
   "id": "10016b7d",
   "metadata": {},
   "outputs": [],
   "source": [
    "clean_df=pd.concat([numeric_scaled,object__dummy],axis=1)"
   ]
  },
  {
   "cell_type": "code",
   "execution_count": 97,
   "id": "5a71cce0",
   "metadata": {},
   "outputs": [],
   "source": [
    "# y and x seperation\n",
    "y=clean_df.selling_price\n",
    "X=clean_df.drop([\"selling_price\"],axis=1) "
   ]
  },
  {
   "cell_type": "code",
   "execution_count": 98,
   "id": "f8b64589",
   "metadata": {},
   "outputs": [
    {
     "data": {
      "text/plain": [
       "<AxesSubplot:>"
      ]
     },
     "execution_count": 98,
     "metadata": {},
     "output_type": "execute_result"
    },
    {
     "data": {
      "image/png": "[encoded data removed]",
      "text/plain": [
       "<Figure size 432x288 with 1 Axes>"
      ]
     },
     "metadata": {
      "needs_background": "light"
     },
     "output_type": "display_data"
    }
   ],
   "source": [
    "y.plot(kind=\"box\",vert=False)"
   ]
  },
  {
   "cell_type": "code",
   "execution_count": 99,
   "id": "8964bbba",
   "metadata": {},
   "outputs": [
    {
     "name": "stderr",
     "output_type": "stream",
     "text": [
      "C:\\Users\\91905\\anaconda3\\lib\\site-packages\\pandas\\core\\series.py:726: RuntimeWarning: invalid value encountered in log\n",
      "  result = getattr(ufunc, method)(*inputs, **kwargs)\n"
     ]
    },
    {
     "data": {
      "text/plain": [
       "<AxesSubplot:>"
      ]
     },
     "execution_count": 99,
     "metadata": {},
     "output_type": "execute_result"
    },
    {
     "data": {
      "image/png": "[encoded data removed]",
      "text/plain": [
       "<Figure size 432x288 with 1 Axes>"
      ]
     },
     "metadata": {
      "needs_background": "light"
     },
     "output_type": "display_data"
    }
   ],
   "source": [
    "np.log(y).plot(kind=\"box\",vert=False)"
   ]
  },
  {
   "cell_type": "code",
   "execution_count": 100,
   "id": "1d903e69",
   "metadata": {},
   "outputs": [],
   "source": [
    "from sklearn.linear_model import LinearRegression"
   ]
  },
  {
   "cell_type": "code",
   "execution_count": 101,
   "id": "976d5ee1",
   "metadata": {},
   "outputs": [],
   "source": [
    "reg=LinearRegression()"
   ]
  },
  {
   "cell_type": "code",
   "execution_count": 102,
   "id": "8cee4ac8",
   "metadata": {},
   "outputs": [],
   "source": [
    "regmodel=reg.fit(X,y)"
   ]
  },
  {
   "cell_type": "code",
   "execution_count": 103,
   "id": "86ec2c13",
   "metadata": {},
   "outputs": [
    {
     "data": {
      "text/plain": [
       "0.6862042158875139"
      ]
     },
     "execution_count": 103,
     "metadata": {},
     "output_type": "execute_result"
    }
   ],
   "source": [
    "regmodel.score(X,y)"
   ]
  },
  {
   "cell_type": "code",
   "execution_count": 104,
   "id": "8213083d",
   "metadata": {},
   "outputs": [
    {
     "data": {
      "text/plain": [
       "0.7672095058948001"
      ]
     },
     "execution_count": 104,
     "metadata": {},
     "output_type": "execute_result"
    }
   ],
   "source": [
    "regmodel.intercept_"
   ]
  },
  {
   "cell_type": "code",
   "execution_count": 105,
   "id": "297922ac",
   "metadata": {},
   "outputs": [
    {
     "name": "stdout",
     "output_type": "stream",
     "text": [
      "[('torque', -0.05775597644402993), ('km_driven', -0.07454697136193422), ('mileage', 0.05123020338479909), ('engine', 0.05694919390300648), ('seats', -0.04741028446831702), ('max_power', 0.5568672740547446), ('carage', -0.1550868065987263), ('seller_type_Dealer', 0.23568721158826583), ('seller_type_Individual', -0.06386934219956773), ('seller_type_Trustmark Dealer', -0.17181786938869745), ('transmission_Automatic', 0.2883882541987139), ('transmission_Manual', -0.28838825419871444), ('owner_First Owner', -0.5117457232483651), ('owner_Fourth & Above Owner', -0.5073506123695143), ('owner_Second Owner', -0.5729877196984569), ('owner_Test Drive Car', 2.132244809592509), ('owner_Third Owner', -0.5401607542761744)]\n"
     ]
    }
   ],
   "source": [
    "print(list(zip(X.columns,regmodel.coef_)))"
   ]
  },
  {
   "cell_type": "code",
   "execution_count": 106,
   "id": "652924d9",
   "metadata": {},
   "outputs": [],
   "source": [
    "regpredict=regmodel.predict(X)"
   ]
  },
  {
   "cell_type": "code",
   "execution_count": 107,
   "id": "5980ebd5",
   "metadata": {},
   "outputs": [],
   "source": [
    "regresid=y-regpredict"
   ]
  },
  {
   "cell_type": "code",
   "execution_count": 108,
   "id": "f7029049",
   "metadata": {},
   "outputs": [
    {
     "data": {
      "text/plain": [
       "0.5601747799682573"
      ]
     },
     "execution_count": 108,
     "metadata": {},
     "output_type": "execute_result"
    }
   ],
   "source": [
    "np.sqrt(np.mean(regresid**2))"
   ]
  },
  {
   "cell_type": "code",
   "execution_count": null,
   "id": "0606da22",
   "metadata": {},
   "outputs": [],
   "source": []
  }
 ],
 "metadata": {
  "kernelspec": {
   "display_name": "Python 3 (ipykernel)",
   "language": "python",
   "name": "python3"
  },
  "language_info": {
   "codemirror_mode": {
    "name": "ipython",
    "version": 3
   },
   "file_extension": ".py",
   "mimetype": "text/x-python",
   "name": "python",
   "nbconvert_exporter": "python",
   "pygments_lexer": "ipython3",
   "version": "3.9.15"
  }
 },
 "nbformat": 4,
 "nbformat_minor": 5
}
